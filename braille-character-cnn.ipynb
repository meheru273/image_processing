{
 "cells": [
  {
   "cell_type": "code",
   "execution_count": 51,
   "id": "4036ba89",
   "metadata": {
    "_cell_guid": "b1076dfc-b9ad-4769-8c92-a6c4dae69d19",
    "_uuid": "8f2839f25d086af736a60e9eeb907d3b93b6e0e5",
    "execution": {
     "iopub.execute_input": "2022-10-14T02:01:36.372551Z",
     "iopub.status.busy": "2022-10-14T02:01:36.371899Z",
     "iopub.status.idle": "2022-10-14T02:01:37.248975Z",
     "shell.execute_reply": "2022-10-14T02:01:37.247987Z"
    },
    "papermill": {
     "duration": 0.896972,
     "end_time": "2022-10-14T02:01:37.258431",
     "exception": false,
     "start_time": "2022-10-14T02:01:36.361459",
     "status": "completed"
    },
    "tags": []
   },
   "outputs": [],
   "source": [
    "# This Python 3 environment comes with many helpful analytics libraries installed\n",
    "# It is defined by the kaggle/python Docker image: https://github.com/kaggle/docker-python\n",
    "# For example, here's several helpful packages to load\n",
    "\n",
    "import numpy as np # linear algebra\n",
    "import pandas as pd # data processing, CSV file I/O (e.g. pd.read_csv)\n",
    "\n",
    "# Input data files are available in the read-only \"../input/\" directory\n",
    "# For example, running this (by clicking run or pressing Shift+Enter) will list all files under the input directory\n",
    "\n",
    "import os\n",
    "for dirname, _, filenames in os.walk('/kaggle/input'):\n",
    "    for filename in filenames:\n",
    "        print(os.path.join(dirname, filename))\n",
    "\n",
    "# You can write up to 20GB to the current directory (/kaggle/working/) that gets preserved as output when you create a version using \"Save & Run All\" \n",
    "# You can also write temporary files to /kaggle/temp/, but they won't be saved outside of the current session"
   ]
  },
  {
   "cell_type": "markdown",
   "id": "e0228f94",
   "metadata": {
    "papermill": {
     "duration": 0.009686,
     "end_time": "2022-10-14T02:01:37.278451",
     "exception": false,
     "start_time": "2022-10-14T02:01:37.268765",
     "status": "completed"
    },
    "tags": []
   },
   "source": [
    "# Preparando os dados"
   ]
  },
  {
   "cell_type": "code",
   "execution_count": 52,
   "id": "714ebb40",
   "metadata": {
    "execution": {
     "iopub.execute_input": "2022-10-14T02:01:37.301331Z",
     "iopub.status.busy": "2022-10-14T02:01:37.299892Z",
     "iopub.status.idle": "2022-10-14T02:01:37.305581Z",
     "shell.execute_reply": "2022-10-14T02:01:37.304719Z"
    },
    "papermill": {
     "duration": 0.019463,
     "end_time": "2022-10-14T02:01:37.307834",
     "exception": false,
     "start_time": "2022-10-14T02:01:37.288371",
     "status": "completed"
    },
    "tags": []
   },
   "outputs": [],
   "source": [
    "# Instanciando a importação do módulo pathlib através do Path\n",
    "from pathlib import Path\n",
    "# Cria uma variável para armazenar o caminho\n",
    "image_dir = Path('Braille Dataset')  "
   ]
  },
  {
   "cell_type": "code",
   "execution_count": 53,
   "id": "d927bb01",
   "metadata": {
    "execution": {
     "iopub.execute_input": "2022-10-14T02:01:37.329613Z",
     "iopub.status.busy": "2022-10-14T02:01:37.328833Z",
     "iopub.status.idle": "2022-10-14T02:01:37.347993Z",
     "shell.execute_reply": "2022-10-14T02:01:37.346643Z"
    },
    "papermill": {
     "duration": 0.032928,
     "end_time": "2022-10-14T02:01:37.350552",
     "exception": false,
     "start_time": "2022-10-14T02:01:37.317624",
     "status": "completed"
    },
    "tags": []
   },
   "outputs": [
    {
     "name": "stdout",
     "output_type": "stream",
     "text": [
      "Braille Dataset\\a1.JPG0dim.jpg\n"
     ]
    }
   ],
   "source": [
    "# Armazenando a listagem dos arquivos com extensão do tipo JPG \n",
    "dir_list = list(image_dir.glob('*.jpg'))\n",
    "# Checando retorno para teste\n",
    "print(dir_list[0])"
   ]
  },
  {
   "cell_type": "code",
   "execution_count": 54,
   "id": "eef59b0b",
   "metadata": {
    "execution": {
     "iopub.execute_input": "2022-10-14T02:01:37.372701Z",
     "iopub.status.busy": "2022-10-14T02:01:37.371601Z",
     "iopub.status.idle": "2022-10-14T02:01:37.381187Z",
     "shell.execute_reply": "2022-10-14T02:01:37.380208Z"
    },
    "papermill": {
     "duration": 0.022883,
     "end_time": "2022-10-14T02:01:37.383408",
     "exception": false,
     "start_time": "2022-10-14T02:01:37.360525",
     "status": "completed"
    },
    "tags": []
   },
   "outputs": [
    {
     "data": {
      "text/plain": [
       "1560"
      ]
     },
     "execution_count": 54,
     "metadata": {},
     "output_type": "execute_result"
    }
   ],
   "source": [
    "# Pegando o tamanho da lista\n",
    "image_count = len(dir_list)\n",
    "# Checando retorno do tamanho da lista\n",
    "image_count"
   ]
  },
  {
   "cell_type": "code",
   "execution_count": 55,
   "id": "2647ec23",
   "metadata": {
    "execution": {
     "iopub.execute_input": "2022-10-14T02:01:37.406699Z",
     "iopub.status.busy": "2022-10-14T02:01:37.405938Z",
     "iopub.status.idle": "2022-10-14T02:01:37.415815Z",
     "shell.execute_reply": "2022-10-14T02:01:37.414974Z"
    },
    "papermill": {
     "duration": 0.023305,
     "end_time": "2022-10-14T02:01:37.418185",
     "exception": false,
     "start_time": "2022-10-14T02:01:37.394880",
     "status": "completed"
    },
    "tags": []
   },
   "outputs": [],
   "source": [
    "# Preparando lista 'name_list' com os arquivos \n",
    "name_list = []\n",
    "for i in dir_list:\n",
    "    name_list.append(os.path.basename(i)[0])"
   ]
  },
  {
   "cell_type": "code",
   "execution_count": 56,
   "id": "058845bf",
   "metadata": {
    "execution": {
     "iopub.execute_input": "2022-10-14T02:01:37.439897Z",
     "iopub.status.busy": "2022-10-14T02:01:37.439509Z",
     "iopub.status.idle": "2022-10-14T02:01:42.963487Z",
     "shell.execute_reply": "2022-10-14T02:01:42.962213Z"
    },
    "papermill": {
     "duration": 5.538103,
     "end_time": "2022-10-14T02:01:42.966259",
     "exception": false,
     "start_time": "2022-10-14T02:01:37.428156",
     "status": "completed"
    },
    "tags": []
   },
   "outputs": [],
   "source": [
    "#Descrição do módulo cv2 importado acima\n",
    "import cv2\n",
    "#Abre as imagens e coloca na lista nomeada como 'images'\n",
    "images = []\n",
    "for dir in dir_list:\n",
    "    I = cv2.imread(str(dir))\n",
    "    images.append(I)"
   ]
  },
  {
   "cell_type": "code",
   "execution_count": 57,
   "id": "acc4f9a3",
   "metadata": {
    "execution": {
     "iopub.execute_input": "2022-10-14T02:01:42.988233Z",
     "iopub.status.busy": "2022-10-14T02:01:42.987830Z",
     "iopub.status.idle": "2022-10-14T02:01:42.997735Z",
     "shell.execute_reply": "2022-10-14T02:01:42.996769Z"
    },
    "papermill": {
     "duration": 0.024053,
     "end_time": "2022-10-14T02:01:43.000413",
     "exception": false,
     "start_time": "2022-10-14T02:01:42.976360",
     "status": "completed"
    },
    "tags": []
   },
   "outputs": [],
   "source": [
    "#Transforma ambas as listas em matrizes numpy\n",
    "images_list = np.array(images)\n",
    "name_list = np.array(name_list).T # 'T' transpose - converte colunas em linhas"
   ]
  },
  {
   "cell_type": "code",
   "execution_count": 58,
   "id": "bda0c203",
   "metadata": {
    "execution": {
     "iopub.execute_input": "2022-10-14T02:01:43.022110Z",
     "iopub.status.busy": "2022-10-14T02:01:43.021716Z",
     "iopub.status.idle": "2022-10-14T02:01:43.958886Z",
     "shell.execute_reply": "2022-10-14T02:01:43.957030Z"
    },
    "papermill": {
     "duration": 0.951029,
     "end_time": "2022-10-14T02:01:43.961561",
     "exception": false,
     "start_time": "2022-10-14T02:01:43.010532",
     "status": "completed"
    },
    "tags": []
   },
   "outputs": [
    {
     "name": "stdout",
     "output_type": "stream",
     "text": [
      "[[[0.76078431 0.76078431 0.76078431]\n",
      "  [0.8        0.8        0.8       ]\n",
      "  [0.80784314 0.80784314 0.80784314]\n",
      "  ...\n",
      "  [0.76862745 0.76862745 0.76862745]\n",
      "  [0.76862745 0.76862745 0.76862745]\n",
      "  [0.76862745 0.76862745 0.76862745]]\n",
      "\n",
      " [[0.75686275 0.75686275 0.75686275]\n",
      "  [0.69411765 0.69411765 0.69411765]\n",
      "  [0.7372549  0.7372549  0.7372549 ]\n",
      "  ...\n",
      "  [0.76862745 0.76862745 0.76862745]\n",
      "  [0.76862745 0.76862745 0.76862745]\n",
      "  [0.76862745 0.76862745 0.76862745]]\n",
      "\n",
      " [[0.78039216 0.78039216 0.78039216]\n",
      "  [0.79607843 0.79607843 0.79607843]\n",
      "  [0.76470588 0.76470588 0.76470588]\n",
      "  ...\n",
      "  [0.76862745 0.76862745 0.76862745]\n",
      "  [0.76862745 0.76862745 0.76862745]\n",
      "  [0.76862745 0.76862745 0.76862745]]\n",
      "\n",
      " ...\n",
      "\n",
      " [[0.76862745 0.76862745 0.76862745]\n",
      "  [0.77254902 0.77254902 0.77254902]\n",
      "  [0.76470588 0.76470588 0.76470588]\n",
      "  ...\n",
      "  [0.76862745 0.76862745 0.76862745]\n",
      "  [0.76862745 0.76862745 0.76862745]\n",
      "  [0.76862745 0.76862745 0.76862745]]\n",
      "\n",
      " [[0.77254902 0.77254902 0.77254902]\n",
      "  [0.77647059 0.77647059 0.77647059]\n",
      "  [0.77647059 0.77647059 0.77647059]\n",
      "  ...\n",
      "  [0.76862745 0.76862745 0.76862745]\n",
      "  [0.76862745 0.76862745 0.76862745]\n",
      "  [0.76862745 0.76862745 0.76862745]]\n",
      "\n",
      " [[0.76078431 0.76078431 0.76078431]\n",
      "  [0.76862745 0.76862745 0.76862745]\n",
      "  [0.77254902 0.77254902 0.77254902]\n",
      "  ...\n",
      "  [0.76862745 0.76862745 0.76862745]\n",
      "  [0.76862745 0.76862745 0.76862745]\n",
      "  [0.76862745 0.76862745 0.76862745]]]\n"
     ]
    }
   ],
   "source": [
    "#Descrição do módulo sklearn.preprocessing importado acima\n",
    "from sklearn.preprocessing import LabelEncoder\n",
    "\n",
    "#Codifica 'name_list' e normaliza 'image_list'\n",
    "le = LabelEncoder()\n",
    "name_list = le.fit_transform(name_list)\n",
    "\n",
    "#Imagens ocultas de 0 a 255 (informações de pixel)\n",
    "images_list = images_list / 255.0 \n",
    "print(images_list[0])"
   ]
  },
  {
   "cell_type": "code",
   "execution_count": 59,
   "id": "a5f6895d",
   "metadata": {
    "execution": {
     "iopub.execute_input": "2022-10-14T02:01:43.984854Z",
     "iopub.status.busy": "2022-10-14T02:01:43.983935Z",
     "iopub.status.idle": "2022-10-14T02:01:44.164601Z",
     "shell.execute_reply": "2022-10-14T02:01:44.163382Z"
    },
    "papermill": {
     "duration": 0.195381,
     "end_time": "2022-10-14T02:01:44.167115",
     "exception": false,
     "start_time": "2022-10-14T02:01:43.971734",
     "status": "completed"
    },
    "tags": []
   },
   "outputs": [
    {
     "data": {
      "text/plain": [
       "<matplotlib.image.AxesImage at 0x192db8239e0>"
      ]
     },
     "execution_count": 59,
     "metadata": {},
     "output_type": "execute_result"
    },
    {
     "data": {
      "image/png": "[encoded data removed]",
      "text/plain": [
       "<Figure size 640x480 with 1 Axes>"
      ]
     },
     "metadata": {},
     "output_type": "display_data"
    }
   ],
   "source": [
    "# O módulo matplotlib.pyplot importado permite a plotagem\n",
    "import matplotlib.pyplot as plt\n",
    "\n",
    "plt.imshow(images_list[0])"
   ]
  },
  {
   "cell_type": "code",
   "execution_count": 60,
   "id": "70b7c9f9",
   "metadata": {
    "execution": {
     "iopub.execute_input": "2022-10-14T02:01:44.190269Z",
     "iopub.status.busy": "2022-10-14T02:01:44.189543Z",
     "iopub.status.idle": "2022-10-14T02:01:44.240522Z",
     "shell.execute_reply": "2022-10-14T02:01:44.239538Z"
    },
    "papermill": {
     "duration": 0.065437,
     "end_time": "2022-10-14T02:01:44.243096",
     "exception": false,
     "start_time": "2022-10-14T02:01:44.177659",
     "status": "completed"
    },
    "tags": []
   },
   "outputs": [],
   "source": [
    "from sklearn.model_selection import train_test_split"
   ]
  },
  {
   "cell_type": "code",
   "execution_count": 61,
   "id": "c4788b7e",
   "metadata": {
    "execution": {
     "iopub.execute_input": "2022-10-14T02:01:44.265668Z",
     "iopub.status.busy": "2022-10-14T02:01:44.264966Z",
     "iopub.status.idle": "2022-10-14T02:01:44.282745Z",
     "shell.execute_reply": "2022-10-14T02:01:44.281752Z"
    },
    "papermill": {
     "duration": 0.031701,
     "end_time": "2022-10-14T02:01:44.285147",
     "exception": false,
     "start_time": "2022-10-14T02:01:44.253446",
     "status": "completed"
    },
    "tags": []
   },
   "outputs": [],
   "source": [
    "#Separando os conjutos de treino e teste\n",
    "X_train, X_test, y_train, y_test = train_test_split(images_list, name_list, test_size=0.2, random_state=42)"
   ]
  },
  {
   "cell_type": "code",
   "execution_count": 62,
   "id": "16e9cfce",
   "metadata": {
    "execution": {
     "iopub.execute_input": "2022-10-14T02:01:44.308610Z",
     "iopub.status.busy": "2022-10-14T02:01:44.307451Z",
     "iopub.status.idle": "2022-10-14T02:01:45.593977Z",
     "shell.execute_reply": "2022-10-14T02:01:45.592832Z"
    },
    "papermill": {
     "duration": 1.301283,
     "end_time": "2022-10-14T02:01:45.597164",
     "exception": false,
     "start_time": "2022-10-14T02:01:44.295881",
     "status": "completed"
    },
    "tags": []
   },
   "outputs": [
    {
     "data": {
      "image/png": "[encoded data removed]",
      "text/plain": [
       "<Figure size 1000x1000 with 30 Axes>"
      ]
     },
     "metadata": {},
     "output_type": "display_data"
    }
   ],
   "source": [
    "#Mostrando os dados\n",
    "class_names = ['a', 'b', 'c', 'd', 'e', 'f', 'g', \n",
    "               'h', 'i', 'j', 'k', 'l', 'm', 'n', \n",
    "               'o', 'p', 'q', 'r', 's', 't', 'u', \n",
    "               'v', 'w', 'x', 'y', 'z']\n",
    "\n",
    "plt.figure(figsize=(10,10))\n",
    "for i in range(30):\n",
    "    plt.subplot(6,5,i+1)\n",
    "    plt.xticks([])\n",
    "    plt.yticks([])\n",
    "    plt.grid(False)\n",
    "    plt.imshow(X_train[i])\n",
    "    plt.xlabel(class_names[y_train[i]])\n",
    "plt.show()"
   ]
  },
  {
   "cell_type": "markdown",
   "id": "1bb55c14",
   "metadata": {
    "papermill": {
     "duration": 0.012502,
     "end_time": "2022-10-14T02:01:45.623039",
     "exception": false,
     "start_time": "2022-10-14T02:01:45.610537",
     "status": "completed"
    },
    "tags": []
   },
   "source": [
    "# Criando o Modelo"
   ]
  },
  {
   "cell_type": "code",
   "execution_count": 63,
   "id": "29d1a8d8",
   "metadata": {
    "execution": {
     "iopub.execute_input": "2022-10-14T02:01:45.650576Z",
     "iopub.status.busy": "2022-10-14T02:01:45.650114Z",
     "iopub.status.idle": "2022-10-14T02:01:51.833911Z",
     "shell.execute_reply": "2022-10-14T02:01:51.832848Z"
    },
    "papermill": {
     "duration": 6.20094,
     "end_time": "2022-10-14T02:01:51.836758",
     "exception": false,
     "start_time": "2022-10-14T02:01:45.635818",
     "status": "completed"
    },
    "tags": []
   },
   "outputs": [
    {
     "name": "stderr",
     "output_type": "stream",
     "text": [
      "c:\\Users\\ASUS\\anaconda3\\envs\\img_env\\Lib\\site-packages\\keras\\src\\layers\\convolutional\\base_conv.py:107: UserWarning: Do not pass an `input_shape`/`input_dim` argument to a layer. When using Sequential models, prefer using an `Input(shape)` object as the first layer in the model instead.\n",
      "  super().__init__(activity_regularizer=activity_regularizer, **kwargs)\n",
      "c:\\Users\\ASUS\\anaconda3\\envs\\img_env\\Lib\\site-packages\\keras\\src\\layers\\regularization\\dropout.py:42: UserWarning: Do not pass an `input_shape`/`input_dim` argument to a layer. When using Sequential models, prefer using an `Input(shape)` object as the first layer in the model instead.\n",
      "  super().__init__(**kwargs)\n"
     ]
    }
   ],
   "source": [
    "import tensorflow as tf\n",
    "from tensorflow import keras\n",
    "\n",
    "model = keras.Sequential([\n",
    "    keras.layers.Conv2D(filters=64, kernel_size=(3,3), padding='same', strides=(1, 1), activation='relu', input_shape=(28,28,3)),\n",
    "    keras.layers.MaxPooling2D(pool_size=(2,2)),\n",
    "    keras.layers.BatchNormalization(),\n",
    "\n",
    "    keras.layers.Conv2D(filters=128, kernel_size=(3,3), padding='same', strides=(1,1), activation='relu'),\n",
    "    keras.layers.MaxPooling2D(pool_size=(2,2)),\n",
    "    keras.layers.Dropout(0.2, input_shape=(28,1)),\n",
    "    keras.layers.BatchNormalization(),\n",
    "\n",
    "    keras.layers.Conv2D(filters=256, kernel_size=(3,3), padding='same', strides=(1,1), activation='relu'),\n",
    "    keras.layers.MaxPooling2D(pool_size=(2,2)),\n",
    "    keras.layers.Dropout(0.25, input_shape=(28,1)),\n",
    "    keras.layers.BatchNormalization(),\n",
    "    \n",
    "    keras.layers.Flatten(),\n",
    "    \n",
    "    keras.layers.Dense(units=512, activation=\"relu\"),\n",
    "    keras.layers.Dropout(0.5, input_shape=(28,1)),\n",
    "    keras.layers.BatchNormalization(),\n",
    "\n",
    "    keras.layers.Dense(units=288, activation=\"relu\"),\n",
    "    keras.layers.Dense(units=26, activation=\"softmax\") #camada de saída\n",
    "])"
   ]
  },
  {
   "cell_type": "code",
   "execution_count": 64,
   "id": "628e0368",
   "metadata": {
    "execution": {
     "iopub.execute_input": "2022-10-14T02:01:51.863973Z",
     "iopub.status.busy": "2022-10-14T02:01:51.863584Z",
     "iopub.status.idle": "2022-10-14T02:01:51.870630Z",
     "shell.execute_reply": "2022-10-14T02:01:51.869734Z"
    },
    "papermill": {
     "duration": 0.023386,
     "end_time": "2022-10-14T02:01:51.872889",
     "exception": false,
     "start_time": "2022-10-14T02:01:51.849503",
     "status": "completed"
    },
    "tags": []
   },
   "outputs": [],
   "source": [
    "# checkpoint_path = \"./braille.ckpt\"\n",
    "# checkpoint_dir = os.path.dirname(checkpoint_path)\n",
    "# batch_size = 32\n",
    "\n",
    "# # Cria um callback que salve os pesos do modelo em intervalos de 5 épocas\n",
    "# save_callback = tf.keras.callbacks.ModelCheckpoint(\n",
    "#     filepath=checkpoint_path, \n",
    "#     verbose=1, \n",
    "#     save_weights_only=True,\n",
    "#     save_freq=5*batch_size)"
   ]
  },
  {
   "cell_type": "markdown",
   "id": "4989caf7",
   "metadata": {
    "papermill": {
     "duration": 0.0122,
     "end_time": "2022-10-14T02:01:51.897975",
     "exception": false,
     "start_time": "2022-10-14T02:01:51.885775",
     "status": "completed"
    },
    "tags": []
   },
   "source": [
    "# Treinando o modelo"
   ]
  },
  {
   "cell_type": "code",
   "execution_count": 65,
   "id": "597b2d13",
   "metadata": {
    "execution": {
     "iopub.execute_input": "2022-10-14T02:01:51.924266Z",
     "iopub.status.busy": "2022-10-14T02:01:51.923906Z",
     "iopub.status.idle": "2022-10-14T02:01:51.937624Z",
     "shell.execute_reply": "2022-10-14T02:01:51.936748Z"
    },
    "papermill": {
     "duration": 0.029723,
     "end_time": "2022-10-14T02:01:51.939785",
     "exception": false,
     "start_time": "2022-10-14T02:01:51.910062",
     "status": "completed"
    },
    "tags": []
   },
   "outputs": [],
   "source": [
    "model.compile(optimizer=\"Adam\", loss=\"SparseCategoricalCrossentropy\", metrics=[\"sparse_categorical_accuracy\"])"
   ]
  },
  {
   "cell_type": "code",
   "execution_count": 66,
   "id": "6cc58b57",
   "metadata": {
    "execution": {
     "iopub.execute_input": "2022-10-14T02:01:51.966878Z",
     "iopub.status.busy": "2022-10-14T02:01:51.966524Z",
     "iopub.status.idle": "2022-10-14T02:01:51.971028Z",
     "shell.execute_reply": "2022-10-14T02:01:51.970051Z"
    },
    "papermill": {
     "duration": 0.020544,
     "end_time": "2022-10-14T02:01:51.973142",
     "exception": false,
     "start_time": "2022-10-14T02:01:51.952598",
     "status": "completed"
    },
    "tags": []
   },
   "outputs": [],
   "source": [
    "from keras.callbacks import EarlyStopping"
   ]
  },
  {
   "cell_type": "code",
   "execution_count": 67,
   "id": "91ceb3df",
   "metadata": {
    "execution": {
     "iopub.execute_input": "2022-10-14T02:01:51.999752Z",
     "iopub.status.busy": "2022-10-14T02:01:51.999363Z",
     "iopub.status.idle": "2022-10-14T02:01:52.004303Z",
     "shell.execute_reply": "2022-10-14T02:01:52.003321Z"
    },
    "papermill": {
     "duration": 0.020953,
     "end_time": "2022-10-14T02:01:52.006592",
     "exception": false,
     "start_time": "2022-10-14T02:01:51.985639",
     "status": "completed"
    },
    "tags": []
   },
   "outputs": [],
   "source": [
    "es1 = EarlyStopping(patience=20, monitor=\"val_sparse_categorical_accuracy\", mode=\"auto\")\n",
    "es2 = EarlyStopping(patience=20, monitor=\"val_loss\", mode=\"auto\")"
   ]
  },
  {
   "cell_type": "code",
   "execution_count": 68,
   "id": "269d46a8",
   "metadata": {
    "execution": {
     "iopub.execute_input": "2022-10-14T02:01:52.033516Z",
     "iopub.status.busy": "2022-10-14T02:01:52.033163Z",
     "iopub.status.idle": "2022-10-14T02:04:30.194746Z",
     "shell.execute_reply": "2022-10-14T02:04:30.193187Z"
    },
    "papermill": {
     "duration": 158.178147,
     "end_time": "2022-10-14T02:04:30.197365",
     "exception": false,
     "start_time": "2022-10-14T02:01:52.019218",
     "status": "completed"
    },
    "tags": []
   },
   "outputs": [
    {
     "name": "stdout",
     "output_type": "stream",
     "text": [
      "Epoch 1/100\n",
      "\u001b[1m28/28\u001b[0m \u001b[32m━━━━━━━━━━━━━━━━━━━━\u001b[0m\u001b[37m\u001b[0m \u001b[1m5s\u001b[0m 58ms/step - loss: 3.3080 - sparse_categorical_accuracy: 0.0939 - val_loss: 3.4385 - val_sparse_categorical_accuracy: 0.0427\n",
      "Epoch 2/100\n",
      "\u001b[1m28/28\u001b[0m \u001b[32m━━━━━━━━━━━━━━━━━━━━\u001b[0m\u001b[37m\u001b[0m \u001b[1m1s\u001b[0m 49ms/step - loss: 1.9735 - sparse_categorical_accuracy: 0.4510 - val_loss: 5.0971 - val_sparse_categorical_accuracy: 0.0427\n",
      "Epoch 3/100\n",
      "\u001b[1m28/28\u001b[0m \u001b[32m━━━━━━━━━━━━━━━━━━━━\u001b[0m\u001b[37m\u001b[0m \u001b[1m1s\u001b[0m 45ms/step - loss: 1.3822 - sparse_categorical_accuracy: 0.5960 - val_loss: 6.9475 - val_sparse_categorical_accuracy: 0.0427\n",
      "Epoch 4/100\n",
      "\u001b[1m28/28\u001b[0m \u001b[32m━━━━━━━━━━━━━━━━━━━━\u001b[0m\u001b[37m\u001b[0m \u001b[1m1s\u001b[0m 49ms/step - loss: 1.0119 - sparse_categorical_accuracy: 0.6994 - val_loss: 8.4212 - val_sparse_categorical_accuracy: 0.0427\n",
      "Epoch 5/100\n",
      "\u001b[1m28/28\u001b[0m \u001b[32m━━━━━━━━━━━━━━━━━━━━\u001b[0m\u001b[37m\u001b[0m \u001b[1m1s\u001b[0m 45ms/step - loss: 0.8820 - sparse_categorical_accuracy: 0.7468 - val_loss: 8.7067 - val_sparse_categorical_accuracy: 0.0427\n",
      "Epoch 6/100\n",
      "\u001b[1m28/28\u001b[0m \u001b[32m━━━━━━━━━━━━━━━━━━━━\u001b[0m\u001b[37m\u001b[0m \u001b[1m1s\u001b[0m 45ms/step - loss: 0.7178 - sparse_categorical_accuracy: 0.8014 - val_loss: 10.2483 - val_sparse_categorical_accuracy: 0.0427\n",
      "Epoch 7/100\n",
      "\u001b[1m28/28\u001b[0m \u001b[32m━━━━━━━━━━━━━━━━━━━━\u001b[0m\u001b[37m\u001b[0m \u001b[1m1s\u001b[0m 47ms/step - loss: 0.5722 - sparse_categorical_accuracy: 0.8218 - val_loss: 11.1435 - val_sparse_categorical_accuracy: 0.0427\n",
      "Epoch 8/100\n",
      "\u001b[1m28/28\u001b[0m \u001b[32m━━━━━━━━━━━━━━━━━━━━\u001b[0m\u001b[37m\u001b[0m \u001b[1m1s\u001b[0m 45ms/step - loss: 0.5101 - sparse_categorical_accuracy: 0.8474 - val_loss: 12.2568 - val_sparse_categorical_accuracy: 0.0427\n",
      "Epoch 9/100\n",
      "\u001b[1m28/28\u001b[0m \u001b[32m━━━━━━━━━━━━━━━━━━━━\u001b[0m\u001b[37m\u001b[0m \u001b[1m1s\u001b[0m 46ms/step - loss: 0.4405 - sparse_categorical_accuracy: 0.8664 - val_loss: 13.4079 - val_sparse_categorical_accuracy: 0.0427\n",
      "Epoch 10/100\n",
      "\u001b[1m28/28\u001b[0m \u001b[32m━━━━━━━━━━━━━━━━━━━━\u001b[0m\u001b[37m\u001b[0m \u001b[1m1s\u001b[0m 44ms/step - loss: 0.3662 - sparse_categorical_accuracy: 0.8957 - val_loss: 14.5110 - val_sparse_categorical_accuracy: 0.0427\n",
      "Epoch 11/100\n",
      "\u001b[1m28/28\u001b[0m \u001b[32m━━━━━━━━━━━━━━━━━━━━\u001b[0m\u001b[37m\u001b[0m \u001b[1m1s\u001b[0m 47ms/step - loss: 0.3291 - sparse_categorical_accuracy: 0.8979 - val_loss: 15.5853 - val_sparse_categorical_accuracy: 0.0427\n",
      "Epoch 12/100\n",
      "\u001b[1m28/28\u001b[0m \u001b[32m━━━━━━━━━━━━━━━━━━━━\u001b[0m\u001b[37m\u001b[0m \u001b[1m1s\u001b[0m 49ms/step - loss: 0.2807 - sparse_categorical_accuracy: 0.9211 - val_loss: 16.1615 - val_sparse_categorical_accuracy: 0.0427\n",
      "Epoch 13/100\n",
      "\u001b[1m28/28\u001b[0m \u001b[32m━━━━━━━━━━━━━━━━━━━━\u001b[0m\u001b[37m\u001b[0m \u001b[1m1s\u001b[0m 48ms/step - loss: 0.2732 - sparse_categorical_accuracy: 0.9302 - val_loss: 15.5628 - val_sparse_categorical_accuracy: 0.0427\n",
      "Epoch 14/100\n",
      "\u001b[1m28/28\u001b[0m \u001b[32m━━━━━━━━━━━━━━━━━━━━\u001b[0m\u001b[37m\u001b[0m \u001b[1m1s\u001b[0m 45ms/step - loss: 0.3562 - sparse_categorical_accuracy: 0.8892 - val_loss: 11.0943 - val_sparse_categorical_accuracy: 0.0427\n",
      "Epoch 15/100\n",
      "\u001b[1m28/28\u001b[0m \u001b[32m━━━━━━━━━━━━━━━━━━━━\u001b[0m\u001b[37m\u001b[0m \u001b[1m3s\u001b[0m 94ms/step - loss: 0.2515 - sparse_categorical_accuracy: 0.9234 - val_loss: 13.3574 - val_sparse_categorical_accuracy: 0.0427\n",
      "Epoch 16/100\n",
      "\u001b[1m28/28\u001b[0m \u001b[32m━━━━━━━━━━━━━━━━━━━━\u001b[0m\u001b[37m\u001b[0m \u001b[1m3s\u001b[0m 101ms/step - loss: 0.2434 - sparse_categorical_accuracy: 0.9291 - val_loss: 10.8714 - val_sparse_categorical_accuracy: 0.0480\n",
      "Epoch 17/100\n",
      "\u001b[1m28/28\u001b[0m \u001b[32m━━━━━━━━━━━━━━━━━━━━\u001b[0m\u001b[37m\u001b[0m \u001b[1m3s\u001b[0m 103ms/step - loss: 0.1507 - sparse_categorical_accuracy: 0.9524 - val_loss: 10.2426 - val_sparse_categorical_accuracy: 0.0453\n",
      "Epoch 18/100\n",
      "\u001b[1m28/28\u001b[0m \u001b[32m━━━━━━━━━━━━━━━━━━━━\u001b[0m\u001b[37m\u001b[0m \u001b[1m3s\u001b[0m 102ms/step - loss: 0.2137 - sparse_categorical_accuracy: 0.9357 - val_loss: 8.8588 - val_sparse_categorical_accuracy: 0.0693\n",
      "Epoch 19/100\n",
      "\u001b[1m28/28\u001b[0m \u001b[32m━━━━━━━━━━━━━━━━━━━━\u001b[0m\u001b[37m\u001b[0m \u001b[1m3s\u001b[0m 111ms/step - loss: 0.2372 - sparse_categorical_accuracy: 0.9207 - val_loss: 5.6002 - val_sparse_categorical_accuracy: 0.1547\n",
      "Epoch 20/100\n",
      "\u001b[1m28/28\u001b[0m \u001b[32m━━━━━━━━━━━━━━━━━━━━\u001b[0m\u001b[37m\u001b[0m \u001b[1m2s\u001b[0m 82ms/step - loss: 0.1186 - sparse_categorical_accuracy: 0.9665 - val_loss: 3.4641 - val_sparse_categorical_accuracy: 0.2880\n",
      "Epoch 21/100\n",
      "\u001b[1m28/28\u001b[0m \u001b[32m━━━━━━━━━━━━━━━━━━━━\u001b[0m\u001b[37m\u001b[0m \u001b[1m3s\u001b[0m 96ms/step - loss: 0.1295 - sparse_categorical_accuracy: 0.9677 - val_loss: 3.0725 - val_sparse_categorical_accuracy: 0.3387\n",
      "Epoch 22/100\n",
      "\u001b[1m28/28\u001b[0m \u001b[32m━━━━━━━━━━━━━━━━━━━━\u001b[0m\u001b[37m\u001b[0m \u001b[1m3s\u001b[0m 103ms/step - loss: 0.0916 - sparse_categorical_accuracy: 0.9721 - val_loss: 1.3005 - val_sparse_categorical_accuracy: 0.6373\n",
      "Epoch 23/100\n",
      "\u001b[1m28/28\u001b[0m \u001b[32m━━━━━━━━━━━━━━━━━━━━\u001b[0m\u001b[37m\u001b[0m \u001b[1m5s\u001b[0m 105ms/step - loss: 0.1318 - sparse_categorical_accuracy: 0.9586 - val_loss: 0.8709 - val_sparse_categorical_accuracy: 0.7467\n",
      "Epoch 24/100\n",
      "\u001b[1m28/28\u001b[0m \u001b[32m━━━━━━━━━━━━━━━━━━━━\u001b[0m\u001b[37m\u001b[0m \u001b[1m3s\u001b[0m 103ms/step - loss: 0.1154 - sparse_categorical_accuracy: 0.9668 - val_loss: 0.5542 - val_sparse_categorical_accuracy: 0.8853\n",
      "Epoch 25/100\n",
      "\u001b[1m28/28\u001b[0m \u001b[32m━━━━━━━━━━━━━━━━━━━━\u001b[0m\u001b[37m\u001b[0m \u001b[1m3s\u001b[0m 101ms/step - loss: 0.1089 - sparse_categorical_accuracy: 0.9674 - val_loss: 0.5243 - val_sparse_categorical_accuracy: 0.8693\n",
      "Epoch 26/100\n",
      "\u001b[1m28/28\u001b[0m \u001b[32m━━━━━━━━━━━━━━━━━━━━\u001b[0m\u001b[37m\u001b[0m \u001b[1m5s\u001b[0m 103ms/step - loss: 0.1113 - sparse_categorical_accuracy: 0.9712 - val_loss: 0.9799 - val_sparse_categorical_accuracy: 0.7547\n",
      "Epoch 27/100\n",
      "\u001b[1m28/28\u001b[0m \u001b[32m━━━━━━━━━━━━━━━━━━━━\u001b[0m\u001b[37m\u001b[0m \u001b[1m3s\u001b[0m 109ms/step - loss: 0.1111 - sparse_categorical_accuracy: 0.9735 - val_loss: 0.7470 - val_sparse_categorical_accuracy: 0.8213\n",
      "Epoch 28/100\n",
      "\u001b[1m28/28\u001b[0m \u001b[32m━━━━━━━━━━━━━━━━━━━━\u001b[0m\u001b[37m\u001b[0m \u001b[1m3s\u001b[0m 105ms/step - loss: 0.0669 - sparse_categorical_accuracy: 0.9798 - val_loss: 0.9822 - val_sparse_categorical_accuracy: 0.7467\n",
      "Epoch 29/100\n",
      "\u001b[1m28/28\u001b[0m \u001b[32m━━━━━━━━━━━━━━━━━━━━\u001b[0m\u001b[37m\u001b[0m \u001b[1m3s\u001b[0m 95ms/step - loss: 0.0411 - sparse_categorical_accuracy: 0.9927 - val_loss: 0.4809 - val_sparse_categorical_accuracy: 0.8933\n",
      "Epoch 30/100\n",
      "\u001b[1m28/28\u001b[0m \u001b[32m━━━━━━━━━━━━━━━━━━━━\u001b[0m\u001b[37m\u001b[0m \u001b[1m3s\u001b[0m 88ms/step - loss: 0.0555 - sparse_categorical_accuracy: 0.9869 - val_loss: 0.4483 - val_sparse_categorical_accuracy: 0.8987\n",
      "Epoch 31/100\n",
      "\u001b[1m28/28\u001b[0m \u001b[32m━━━━━━━━━━━━━━━━━━━━\u001b[0m\u001b[37m\u001b[0m \u001b[1m3s\u001b[0m 98ms/step - loss: 0.0590 - sparse_categorical_accuracy: 0.9830 - val_loss: 0.5801 - val_sparse_categorical_accuracy: 0.8613\n",
      "Epoch 32/100\n",
      "\u001b[1m28/28\u001b[0m \u001b[32m━━━━━━━━━━━━━━━━━━━━\u001b[0m\u001b[37m\u001b[0m \u001b[1m3s\u001b[0m 110ms/step - loss: 0.0953 - sparse_categorical_accuracy: 0.9701 - val_loss: 0.6615 - val_sparse_categorical_accuracy: 0.8373\n",
      "Epoch 33/100\n",
      "\u001b[1m28/28\u001b[0m \u001b[32m━━━━━━━━━━━━━━━━━━━━\u001b[0m\u001b[37m\u001b[0m \u001b[1m5s\u001b[0m 102ms/step - loss: 0.1239 - sparse_categorical_accuracy: 0.9635 - val_loss: 0.5348 - val_sparse_categorical_accuracy: 0.8960\n",
      "Epoch 34/100\n",
      "\u001b[1m28/28\u001b[0m \u001b[32m━━━━━━━━━━━━━━━━━━━━\u001b[0m\u001b[37m\u001b[0m \u001b[1m3s\u001b[0m 94ms/step - loss: 0.1674 - sparse_categorical_accuracy: 0.9426 - val_loss: 0.6685 - val_sparse_categorical_accuracy: 0.8747\n",
      "Epoch 35/100\n",
      "\u001b[1m28/28\u001b[0m \u001b[32m━━━━━━━━━━━━━━━━━━━━\u001b[0m\u001b[37m\u001b[0m \u001b[1m3s\u001b[0m 101ms/step - loss: 0.1050 - sparse_categorical_accuracy: 0.9660 - val_loss: 0.7085 - val_sparse_categorical_accuracy: 0.8373\n",
      "Epoch 36/100\n",
      "\u001b[1m28/28\u001b[0m \u001b[32m━━━━━━━━━━━━━━━━━━━━\u001b[0m\u001b[37m\u001b[0m \u001b[1m5s\u001b[0m 98ms/step - loss: 0.1216 - sparse_categorical_accuracy: 0.9595 - val_loss: 0.5609 - val_sparse_categorical_accuracy: 0.9013\n",
      "Epoch 37/100\n",
      "\u001b[1m28/28\u001b[0m \u001b[32m━━━━━━━━━━━━━━━━━━━━\u001b[0m\u001b[37m\u001b[0m \u001b[1m3s\u001b[0m 94ms/step - loss: 0.0817 - sparse_categorical_accuracy: 0.9764 - val_loss: 0.5257 - val_sparse_categorical_accuracy: 0.9013\n",
      "Epoch 38/100\n",
      "\u001b[1m28/28\u001b[0m \u001b[32m━━━━━━━━━━━━━━━━━━━━\u001b[0m\u001b[37m\u001b[0m \u001b[1m3s\u001b[0m 98ms/step - loss: 0.1006 - sparse_categorical_accuracy: 0.9603 - val_loss: 0.6247 - val_sparse_categorical_accuracy: 0.8720\n",
      "Epoch 39/100\n",
      "\u001b[1m28/28\u001b[0m \u001b[32m━━━━━━━━━━━━━━━━━━━━\u001b[0m\u001b[37m\u001b[0m \u001b[1m3s\u001b[0m 99ms/step - loss: 0.0354 - sparse_categorical_accuracy: 0.9936 - val_loss: 0.5985 - val_sparse_categorical_accuracy: 0.8907\n",
      "Epoch 40/100\n",
      "\u001b[1m28/28\u001b[0m \u001b[32m━━━━━━━━━━━━━━━━━━━━\u001b[0m\u001b[37m\u001b[0m \u001b[1m3s\u001b[0m 91ms/step - loss: 0.0517 - sparse_categorical_accuracy: 0.9876 - val_loss: 0.5121 - val_sparse_categorical_accuracy: 0.9067\n",
      "Epoch 41/100\n",
      "\u001b[1m28/28\u001b[0m \u001b[32m━━━━━━━━━━━━━━━━━━━━\u001b[0m\u001b[37m\u001b[0m \u001b[1m3s\u001b[0m 103ms/step - loss: 0.0514 - sparse_categorical_accuracy: 0.9835 - val_loss: 0.6417 - val_sparse_categorical_accuracy: 0.8960\n",
      "Epoch 42/100\n",
      "\u001b[1m28/28\u001b[0m \u001b[32m━━━━━━━━━━━━━━━━━━━━\u001b[0m\u001b[37m\u001b[0m \u001b[1m3s\u001b[0m 110ms/step - loss: 0.0826 - sparse_categorical_accuracy: 0.9778 - val_loss: 0.6295 - val_sparse_categorical_accuracy: 0.8880\n",
      "Epoch 43/100\n",
      "\u001b[1m28/28\u001b[0m \u001b[32m━━━━━━━━━━━━━━━━━━━━\u001b[0m\u001b[37m\u001b[0m \u001b[1m3s\u001b[0m 88ms/step - loss: 0.0493 - sparse_categorical_accuracy: 0.9862 - val_loss: 0.8333 - val_sparse_categorical_accuracy: 0.8560\n",
      "Epoch 44/100\n",
      "\u001b[1m28/28\u001b[0m \u001b[32m━━━━━━━━━━━━━━━━━━━━\u001b[0m\u001b[37m\u001b[0m \u001b[1m3s\u001b[0m 107ms/step - loss: 0.0493 - sparse_categorical_accuracy: 0.9781 - val_loss: 0.5637 - val_sparse_categorical_accuracy: 0.8907\n",
      "Epoch 45/100\n",
      "\u001b[1m28/28\u001b[0m \u001b[32m━━━━━━━━━━━━━━━━━━━━\u001b[0m\u001b[37m\u001b[0m \u001b[1m3s\u001b[0m 107ms/step - loss: 0.0328 - sparse_categorical_accuracy: 0.9929 - val_loss: 0.4988 - val_sparse_categorical_accuracy: 0.9147\n",
      "Epoch 46/100\n",
      "\u001b[1m28/28\u001b[0m \u001b[32m━━━━━━━━━━━━━━━━━━━━\u001b[0m\u001b[37m\u001b[0m \u001b[1m3s\u001b[0m 107ms/step - loss: 0.0493 - sparse_categorical_accuracy: 0.9867 - val_loss: 0.9209 - val_sparse_categorical_accuracy: 0.8133\n",
      "Epoch 47/100\n",
      "\u001b[1m28/28\u001b[0m \u001b[32m━━━━━━━━━━━━━━━━━━━━\u001b[0m\u001b[37m\u001b[0m \u001b[1m3s\u001b[0m 104ms/step - loss: 0.0755 - sparse_categorical_accuracy: 0.9770 - val_loss: 1.0017 - val_sparse_categorical_accuracy: 0.8080\n",
      "Epoch 48/100\n",
      "\u001b[1m28/28\u001b[0m \u001b[32m━━━━━━━━━━━━━━━━━━━━\u001b[0m\u001b[37m\u001b[0m \u001b[1m3s\u001b[0m 102ms/step - loss: 0.0790 - sparse_categorical_accuracy: 0.9775 - val_loss: 0.7373 - val_sparse_categorical_accuracy: 0.8453\n",
      "Epoch 49/100\n",
      "\u001b[1m28/28\u001b[0m \u001b[32m━━━━━━━━━━━━━━━━━━━━\u001b[0m\u001b[37m\u001b[0m \u001b[1m3s\u001b[0m 114ms/step - loss: 0.0544 - sparse_categorical_accuracy: 0.9747 - val_loss: 0.5997 - val_sparse_categorical_accuracy: 0.8853\n",
      "Epoch 50/100\n",
      "\u001b[1m28/28\u001b[0m \u001b[32m━━━━━━━━━━━━━━━━━━━━\u001b[0m\u001b[37m\u001b[0m \u001b[1m3s\u001b[0m 98ms/step - loss: 0.0447 - sparse_categorical_accuracy: 0.9893 - val_loss: 0.5321 - val_sparse_categorical_accuracy: 0.8853\n",
      "Epoch 51/100\n",
      "\u001b[1m28/28\u001b[0m \u001b[32m━━━━━━━━━━━━━━━━━━━━\u001b[0m\u001b[37m\u001b[0m \u001b[1m6s\u001b[0m 115ms/step - loss: 0.0756 - sparse_categorical_accuracy: 0.9685 - val_loss: 0.5882 - val_sparse_categorical_accuracy: 0.8853\n",
      "Epoch 52/100\n",
      "\u001b[1m28/28\u001b[0m \u001b[32m━━━━━━━━━━━━━━━━━━━━\u001b[0m\u001b[37m\u001b[0m \u001b[1m5s\u001b[0m 102ms/step - loss: 0.0951 - sparse_categorical_accuracy: 0.9678 - val_loss: 1.6523 - val_sparse_categorical_accuracy: 0.7600\n",
      "Epoch 53/100\n",
      "\u001b[1m28/28\u001b[0m \u001b[32m━━━━━━━━━━━━━━━━━━━━\u001b[0m\u001b[37m\u001b[0m \u001b[1m3s\u001b[0m 106ms/step - loss: 0.0570 - sparse_categorical_accuracy: 0.9819 - val_loss: 0.8944 - val_sparse_categorical_accuracy: 0.8320\n",
      "Epoch 54/100\n",
      "\u001b[1m28/28\u001b[0m \u001b[32m━━━━━━━━━━━━━━━━━━━━\u001b[0m\u001b[37m\u001b[0m \u001b[1m5s\u001b[0m 96ms/step - loss: 0.0604 - sparse_categorical_accuracy: 0.9821 - val_loss: 0.7665 - val_sparse_categorical_accuracy: 0.8400\n",
      "Epoch 55/100\n",
      "\u001b[1m28/28\u001b[0m \u001b[32m━━━━━━━━━━━━━━━━━━━━\u001b[0m\u001b[37m\u001b[0m \u001b[1m3s\u001b[0m 106ms/step - loss: 0.0630 - sparse_categorical_accuracy: 0.9810 - val_loss: 0.9792 - val_sparse_categorical_accuracy: 0.8320\n",
      "Epoch 56/100\n",
      "\u001b[1m28/28\u001b[0m \u001b[32m━━━━━━━━━━━━━━━━━━━━\u001b[0m\u001b[37m\u001b[0m \u001b[1m3s\u001b[0m 89ms/step - loss: 0.1550 - sparse_categorical_accuracy: 0.9602 - val_loss: 0.8773 - val_sparse_categorical_accuracy: 0.8640\n",
      "Epoch 57/100\n",
      "\u001b[1m28/28\u001b[0m \u001b[32m━━━━━━━━━━━━━━━━━━━━\u001b[0m\u001b[37m\u001b[0m \u001b[1m3s\u001b[0m 98ms/step - loss: 0.0774 - sparse_categorical_accuracy: 0.9765 - val_loss: 0.6902 - val_sparse_categorical_accuracy: 0.8880\n",
      "Epoch 58/100\n",
      "\u001b[1m28/28\u001b[0m \u001b[32m━━━━━━━━━━━━━━━━━━━━\u001b[0m\u001b[37m\u001b[0m \u001b[1m2s\u001b[0m 77ms/step - loss: 0.0391 - sparse_categorical_accuracy: 0.9850 - val_loss: 0.7099 - val_sparse_categorical_accuracy: 0.8853\n",
      "Epoch 59/100\n",
      "\u001b[1m28/28\u001b[0m \u001b[32m━━━━━━━━━━━━━━━━━━━━\u001b[0m\u001b[37m\u001b[0m \u001b[1m2s\u001b[0m 83ms/step - loss: 0.0500 - sparse_categorical_accuracy: 0.9820 - val_loss: 0.4895 - val_sparse_categorical_accuracy: 0.8933\n",
      "Epoch 60/100\n",
      "\u001b[1m28/28\u001b[0m \u001b[32m━━━━━━━━━━━━━━━━━━━━\u001b[0m\u001b[37m\u001b[0m \u001b[1m3s\u001b[0m 93ms/step - loss: 0.0376 - sparse_categorical_accuracy: 0.9843 - val_loss: 0.5854 - val_sparse_categorical_accuracy: 0.8773\n",
      "Epoch 61/100\n",
      "\u001b[1m28/28\u001b[0m \u001b[32m━━━━━━━━━━━━━━━━━━━━\u001b[0m\u001b[37m\u001b[0m \u001b[1m3s\u001b[0m 98ms/step - loss: 0.0747 - sparse_categorical_accuracy: 0.9726 - val_loss: 0.4672 - val_sparse_categorical_accuracy: 0.9120\n",
      "Epoch 62/100\n",
      "\u001b[1m28/28\u001b[0m \u001b[32m━━━━━━━━━━━━━━━━━━━━\u001b[0m\u001b[37m\u001b[0m \u001b[1m3s\u001b[0m 90ms/step - loss: 0.0634 - sparse_categorical_accuracy: 0.9804 - val_loss: 0.5620 - val_sparse_categorical_accuracy: 0.9173\n",
      "Epoch 63/100\n",
      "\u001b[1m28/28\u001b[0m \u001b[32m━━━━━━━━━━━━━━━━━━━━\u001b[0m\u001b[37m\u001b[0m \u001b[1m3s\u001b[0m 115ms/step - loss: 0.0840 - sparse_categorical_accuracy: 0.9694 - val_loss: 0.5604 - val_sparse_categorical_accuracy: 0.9013\n",
      "Epoch 64/100\n",
      "\u001b[1m28/28\u001b[0m \u001b[32m━━━━━━━━━━━━━━━━━━━━\u001b[0m\u001b[37m\u001b[0m \u001b[1m5s\u001b[0m 101ms/step - loss: 0.0428 - sparse_categorical_accuracy: 0.9902 - val_loss: 0.5340 - val_sparse_categorical_accuracy: 0.9093\n",
      "Epoch 65/100\n",
      "\u001b[1m28/28\u001b[0m \u001b[32m━━━━━━━━━━━━━━━━━━━━\u001b[0m\u001b[37m\u001b[0m \u001b[1m3s\u001b[0m 96ms/step - loss: 0.0387 - sparse_categorical_accuracy: 0.9847 - val_loss: 0.4985 - val_sparse_categorical_accuracy: 0.9120\n",
      "Epoch 66/100\n",
      "\u001b[1m28/28\u001b[0m \u001b[32m━━━━━━━━━━━━━━━━━━━━\u001b[0m\u001b[37m\u001b[0m \u001b[1m5s\u001b[0m 105ms/step - loss: 0.0235 - sparse_categorical_accuracy: 0.9943 - val_loss: 0.5284 - val_sparse_categorical_accuracy: 0.9040\n",
      "Epoch 67/100\n",
      "\u001b[1m28/28\u001b[0m \u001b[32m━━━━━━━━━━━━━━━━━━━━\u001b[0m\u001b[37m\u001b[0m \u001b[1m2s\u001b[0m 82ms/step - loss: 0.0296 - sparse_categorical_accuracy: 0.9904 - val_loss: 0.4840 - val_sparse_categorical_accuracy: 0.8987\n",
      "Epoch 68/100\n",
      "\u001b[1m28/28\u001b[0m \u001b[32m━━━━━━━━━━━━━━━━━━━━\u001b[0m\u001b[37m\u001b[0m \u001b[1m2s\u001b[0m 43ms/step - loss: 0.0383 - sparse_categorical_accuracy: 0.9879 - val_loss: 0.4988 - val_sparse_categorical_accuracy: 0.8960\n",
      "Epoch 69/100\n",
      "\u001b[1m28/28\u001b[0m \u001b[32m━━━━━━━━━━━━━━━━━━━━\u001b[0m\u001b[37m\u001b[0m \u001b[1m1s\u001b[0m 44ms/step - loss: 0.0455 - sparse_categorical_accuracy: 0.9813 - val_loss: 0.5892 - val_sparse_categorical_accuracy: 0.8987\n",
      "Epoch 70/100\n",
      "\u001b[1m28/28\u001b[0m \u001b[32m━━━━━━━━━━━━━━━━━━━━\u001b[0m\u001b[37m\u001b[0m \u001b[1m1s\u001b[0m 45ms/step - loss: 0.0590 - sparse_categorical_accuracy: 0.9752 - val_loss: 0.4556 - val_sparse_categorical_accuracy: 0.9040\n",
      "Epoch 71/100\n",
      "\u001b[1m28/28\u001b[0m \u001b[32m━━━━━━━━━━━━━━━━━━━━\u001b[0m\u001b[37m\u001b[0m \u001b[1m1s\u001b[0m 44ms/step - loss: 0.0561 - sparse_categorical_accuracy: 0.9845 - val_loss: 0.6340 - val_sparse_categorical_accuracy: 0.9013\n",
      "Epoch 72/100\n",
      "\u001b[1m28/28\u001b[0m \u001b[32m━━━━━━━━━━━━━━━━━━━━\u001b[0m\u001b[37m\u001b[0m \u001b[1m1s\u001b[0m 43ms/step - loss: 0.0435 - sparse_categorical_accuracy: 0.9854 - val_loss: 0.5651 - val_sparse_categorical_accuracy: 0.9040\n",
      "Epoch 73/100\n",
      "\u001b[1m28/28\u001b[0m \u001b[32m━━━━━━━━━━━━━━━━━━━━\u001b[0m\u001b[37m\u001b[0m \u001b[1m1s\u001b[0m 46ms/step - loss: 0.0757 - sparse_categorical_accuracy: 0.9734 - val_loss: 0.6281 - val_sparse_categorical_accuracy: 0.8933\n",
      "Epoch 74/100\n",
      "\u001b[1m28/28\u001b[0m \u001b[32m━━━━━━━━━━━━━━━━━━━━\u001b[0m\u001b[37m\u001b[0m \u001b[1m1s\u001b[0m 44ms/step - loss: 0.0442 - sparse_categorical_accuracy: 0.9874 - val_loss: 0.6498 - val_sparse_categorical_accuracy: 0.8693\n",
      "Epoch 75/100\n",
      "\u001b[1m28/28\u001b[0m \u001b[32m━━━━━━━━━━━━━━━━━━━━\u001b[0m\u001b[37m\u001b[0m \u001b[1m2s\u001b[0m 54ms/step - loss: 0.0326 - sparse_categorical_accuracy: 0.9889 - val_loss: 0.5476 - val_sparse_categorical_accuracy: 0.9093\n",
      "Epoch 76/100\n",
      "\u001b[1m28/28\u001b[0m \u001b[32m━━━━━━━━━━━━━━━━━━━━\u001b[0m\u001b[37m\u001b[0m \u001b[1m3s\u001b[0m 50ms/step - loss: 0.0495 - sparse_categorical_accuracy: 0.9870 - val_loss: 0.5901 - val_sparse_categorical_accuracy: 0.9013\n",
      "Epoch 77/100\n",
      "\u001b[1m28/28\u001b[0m \u001b[32m━━━━━━━━━━━━━━━━━━━━\u001b[0m\u001b[37m\u001b[0m \u001b[1m2s\u001b[0m 64ms/step - loss: 0.0157 - sparse_categorical_accuracy: 0.9945 - val_loss: 0.6832 - val_sparse_categorical_accuracy: 0.8960\n",
      "Epoch 78/100\n",
      "\u001b[1m28/28\u001b[0m \u001b[32m━━━━━━━━━━━━━━━━━━━━\u001b[0m\u001b[37m\u001b[0m \u001b[1m2s\u001b[0m 78ms/step - loss: 0.0432 - sparse_categorical_accuracy: 0.9873 - val_loss: 0.5901 - val_sparse_categorical_accuracy: 0.8933\n",
      "Epoch 79/100\n",
      "\u001b[1m28/28\u001b[0m \u001b[32m━━━━━━━━━━━━━━━━━━━━\u001b[0m\u001b[37m\u001b[0m \u001b[1m2s\u001b[0m 63ms/step - loss: 0.0270 - sparse_categorical_accuracy: 0.9903 - val_loss: 0.5820 - val_sparse_categorical_accuracy: 0.9093\n",
      "Epoch 80/100\n",
      "\u001b[1m28/28\u001b[0m \u001b[32m━━━━━━━━━━━━━━━━━━━━\u001b[0m\u001b[37m\u001b[0m \u001b[1m3s\u001b[0m 95ms/step - loss: 0.0284 - sparse_categorical_accuracy: 0.9930 - val_loss: 0.5164 - val_sparse_categorical_accuracy: 0.9147\n",
      "Epoch 81/100\n",
      "\u001b[1m28/28\u001b[0m \u001b[32m━━━━━━━━━━━━━━━━━━━━\u001b[0m\u001b[37m\u001b[0m \u001b[1m3s\u001b[0m 99ms/step - loss: 0.0235 - sparse_categorical_accuracy: 0.9924 - val_loss: 0.6207 - val_sparse_categorical_accuracy: 0.8933\n",
      "Epoch 82/100\n",
      "\u001b[1m28/28\u001b[0m \u001b[32m━━━━━━━━━━━━━━━━━━━━\u001b[0m\u001b[37m\u001b[0m \u001b[1m3s\u001b[0m 95ms/step - loss: 0.0343 - sparse_categorical_accuracy: 0.9900 - val_loss: 0.6932 - val_sparse_categorical_accuracy: 0.8853\n",
      "Epoch 83/100\n",
      "\u001b[1m28/28\u001b[0m \u001b[32m━━━━━━━━━━━━━━━━━━━━\u001b[0m\u001b[37m\u001b[0m \u001b[1m5s\u001b[0m 169ms/step - loss: 0.0393 - sparse_categorical_accuracy: 0.9897 - val_loss: 0.5417 - val_sparse_categorical_accuracy: 0.9120\n",
      "Epoch 84/100\n",
      "\u001b[1m28/28\u001b[0m \u001b[32m━━━━━━━━━━━━━━━━━━━━\u001b[0m\u001b[37m\u001b[0m \u001b[1m4s\u001b[0m 104ms/step - loss: 0.0394 - sparse_categorical_accuracy: 0.9910 - val_loss: 0.7832 - val_sparse_categorical_accuracy: 0.8800\n",
      "Epoch 85/100\n",
      "\u001b[1m28/28\u001b[0m \u001b[32m━━━━━━━━━━━━━━━━━━━━\u001b[0m\u001b[37m\u001b[0m \u001b[1m3s\u001b[0m 85ms/step - loss: 0.0663 - sparse_categorical_accuracy: 0.9811 - val_loss: 0.9802 - val_sparse_categorical_accuracy: 0.8213\n",
      "Epoch 86/100\n",
      "\u001b[1m28/28\u001b[0m \u001b[32m━━━━━━━━━━━━━━━━━━━━\u001b[0m\u001b[37m\u001b[0m \u001b[1m2s\u001b[0m 73ms/step - loss: 0.0479 - sparse_categorical_accuracy: 0.9877 - val_loss: 0.6047 - val_sparse_categorical_accuracy: 0.9200\n",
      "Epoch 87/100\n",
      "\u001b[1m28/28\u001b[0m \u001b[32m━━━━━━━━━━━━━━━━━━━━\u001b[0m\u001b[37m\u001b[0m \u001b[1m2s\u001b[0m 65ms/step - loss: 0.0464 - sparse_categorical_accuracy: 0.9871 - val_loss: 0.6094 - val_sparse_categorical_accuracy: 0.9147\n",
      "Epoch 88/100\n",
      "\u001b[1m28/28\u001b[0m \u001b[32m━━━━━━━━━━━━━━━━━━━━\u001b[0m\u001b[37m\u001b[0m \u001b[1m2s\u001b[0m 57ms/step - loss: 0.1346 - sparse_categorical_accuracy: 0.9727 - val_loss: 0.8008 - val_sparse_categorical_accuracy: 0.8667\n",
      "Epoch 89/100\n",
      "\u001b[1m28/28\u001b[0m \u001b[32m━━━━━━━━━━━━━━━━━━━━\u001b[0m\u001b[37m\u001b[0m \u001b[1m2s\u001b[0m 61ms/step - loss: 0.0459 - sparse_categorical_accuracy: 0.9846 - val_loss: 0.5651 - val_sparse_categorical_accuracy: 0.9147\n",
      "Epoch 90/100\n",
      "\u001b[1m28/28\u001b[0m \u001b[32m━━━━━━━━━━━━━━━━━━━━\u001b[0m\u001b[37m\u001b[0m \u001b[1m2s\u001b[0m 60ms/step - loss: 0.0612 - sparse_categorical_accuracy: 0.9763 - val_loss: 0.5149 - val_sparse_categorical_accuracy: 0.9120\n",
      "Epoch 91/100\n",
      "\u001b[1m28/28\u001b[0m \u001b[32m━━━━━━━━━━━━━━━━━━━━\u001b[0m\u001b[37m\u001b[0m \u001b[1m2s\u001b[0m 67ms/step - loss: 0.0350 - sparse_categorical_accuracy: 0.9875 - val_loss: 0.4913 - val_sparse_categorical_accuracy: 0.9067\n",
      "Epoch 92/100\n",
      "\u001b[1m28/28\u001b[0m \u001b[32m━━━━━━━━━━━━━━━━━━━━\u001b[0m\u001b[37m\u001b[0m \u001b[1m2s\u001b[0m 62ms/step - loss: 0.0525 - sparse_categorical_accuracy: 0.9855 - val_loss: 0.4731 - val_sparse_categorical_accuracy: 0.9120\n",
      "Epoch 93/100\n",
      "\u001b[1m28/28\u001b[0m \u001b[32m━━━━━━━━━━━━━━━━━━━━\u001b[0m\u001b[37m\u001b[0m \u001b[1m2s\u001b[0m 69ms/step - loss: 0.0361 - sparse_categorical_accuracy: 0.9865 - val_loss: 0.5309 - val_sparse_categorical_accuracy: 0.8960\n",
      "Epoch 94/100\n",
      "\u001b[1m28/28\u001b[0m \u001b[32m━━━━━━━━━━━━━━━━━━━━\u001b[0m\u001b[37m\u001b[0m \u001b[1m2s\u001b[0m 59ms/step - loss: 0.0255 - sparse_categorical_accuracy: 0.9885 - val_loss: 0.6058 - val_sparse_categorical_accuracy: 0.8880\n",
      "Epoch 95/100\n",
      "\u001b[1m28/28\u001b[0m \u001b[32m━━━━━━━━━━━━━━━━━━━━\u001b[0m\u001b[37m\u001b[0m \u001b[1m2s\u001b[0m 55ms/step - loss: 0.0389 - sparse_categorical_accuracy: 0.9895 - val_loss: 0.5438 - val_sparse_categorical_accuracy: 0.9093\n",
      "Epoch 96/100\n",
      "\u001b[1m28/28\u001b[0m \u001b[32m━━━━━━━━━━━━━━━━━━━━\u001b[0m\u001b[37m\u001b[0m \u001b[1m2s\u001b[0m 57ms/step - loss: 0.0193 - sparse_categorical_accuracy: 0.9894 - val_loss: 0.5813 - val_sparse_categorical_accuracy: 0.9093\n",
      "Epoch 97/100\n",
      "\u001b[1m28/28\u001b[0m \u001b[32m━━━━━━━━━━━━━━━━━━━━\u001b[0m\u001b[37m\u001b[0m \u001b[1m2s\u001b[0m 53ms/step - loss: 0.0267 - sparse_categorical_accuracy: 0.9946 - val_loss: 0.5311 - val_sparse_categorical_accuracy: 0.9093\n",
      "Epoch 98/100\n",
      "\u001b[1m28/28\u001b[0m \u001b[32m━━━━━━━━━━━━━━━━━━━━\u001b[0m\u001b[37m\u001b[0m \u001b[1m1s\u001b[0m 51ms/step - loss: 0.0245 - sparse_categorical_accuracy: 0.9880 - val_loss: 0.4389 - val_sparse_categorical_accuracy: 0.9253\n",
      "Epoch 99/100\n",
      "\u001b[1m28/28\u001b[0m \u001b[32m━━━━━━━━━━━━━━━━━━━━\u001b[0m\u001b[37m\u001b[0m \u001b[1m2s\u001b[0m 42ms/step - loss: 0.0434 - sparse_categorical_accuracy: 0.9836 - val_loss: 0.5205 - val_sparse_categorical_accuracy: 0.8987\n",
      "Epoch 100/100\n",
      "\u001b[1m28/28\u001b[0m \u001b[32m━━━━━━━━━━━━━━━━━━━━\u001b[0m\u001b[37m\u001b[0m \u001b[1m1s\u001b[0m 48ms/step - loss: 0.0450 - sparse_categorical_accuracy: 0.9856 - val_loss: 0.6812 - val_sparse_categorical_accuracy: 0.8747\n"
     ]
    }
   ],
   "source": [
    "history = model.fit(x=X_train,\n",
    "                    y=y_train,\n",
    "                    epochs=100,\n",
    "                    validation_split=0.3,\n",
    "                    # callbacks=[es1, es2, save_callback]\n",
    "                    )"
   ]
  },
  {
   "cell_type": "code",
   "execution_count": 69,
   "id": "1d858f86",
   "metadata": {
    "execution": {
     "iopub.execute_input": "2022-10-14T02:04:30.456590Z",
     "iopub.status.busy": "2022-10-14T02:04:30.456119Z",
     "iopub.status.idle": "2022-10-14T02:04:30.464372Z",
     "shell.execute_reply": "2022-10-14T02:04:30.463186Z"
    },
    "papermill": {
     "duration": 0.140692,
     "end_time": "2022-10-14T02:04:30.467023",
     "exception": false,
     "start_time": "2022-10-14T02:04:30.326331",
     "status": "completed"
    },
    "tags": []
   },
   "outputs": [
    {
     "data": {
      "text/html": [
       "<pre style=\"white-space:pre;overflow-x:auto;line-height:normal;font-family:Menlo,'DejaVu Sans Mono',consolas,'Courier New',monospace\"><span style=\"font-weight: bold\">Model: \"sequential_3\"</span>\n",
       "</pre>\n"
      ],
      "text/plain": [
       "\u001b[1mModel: \"sequential_3\"\u001b[0m\n"
      ]
     },
     "metadata": {},
     "output_type": "display_data"
    },
    {
     "data": {
      "text/html": [
       "<pre style=\"white-space:pre;overflow-x:auto;line-height:normal;font-family:Menlo,'DejaVu Sans Mono',consolas,'Courier New',monospace\">┏━━━━━━━━━━━━━━━━━━━━━━━━━━━━━━━━━┳━━━━━━━━━━━━━━━━━━━━━━━━┳━━━━━━━━━━━━━━━┓\n",
       "┃<span style=\"font-weight: bold\"> Layer (type)                    </span>┃<span style=\"font-weight: bold\"> Output Shape           </span>┃<span style=\"font-weight: bold\">       Param # </span>┃\n",
       "┡━━━━━━━━━━━━━━━━━━━━━━━━━━━━━━━━━╇━━━━━━━━━━━━━━━━━━━━━━━━╇━━━━━━━━━━━━━━━┩\n",
       "│ conv2d_9 (<span style=\"color: #0087ff; text-decoration-color: #0087ff\">Conv2D</span>)               │ (<span style=\"color: #00d7ff; text-decoration-color: #00d7ff\">None</span>, <span style=\"color: #00af00; text-decoration-color: #00af00\">28</span>, <span style=\"color: #00af00; text-decoration-color: #00af00\">28</span>, <span style=\"color: #00af00; text-decoration-color: #00af00\">64</span>)     │         <span style=\"color: #00af00; text-decoration-color: #00af00\">1,792</span> │\n",
       "├─────────────────────────────────┼────────────────────────┼───────────────┤\n",
       "│ max_pooling2d_9 (<span style=\"color: #0087ff; text-decoration-color: #0087ff\">MaxPooling2D</span>)  │ (<span style=\"color: #00d7ff; text-decoration-color: #00d7ff\">None</span>, <span style=\"color: #00af00; text-decoration-color: #00af00\">14</span>, <span style=\"color: #00af00; text-decoration-color: #00af00\">14</span>, <span style=\"color: #00af00; text-decoration-color: #00af00\">64</span>)     │             <span style=\"color: #00af00; text-decoration-color: #00af00\">0</span> │\n",
       "├─────────────────────────────────┼────────────────────────┼───────────────┤\n",
       "│ batch_normalization_12          │ (<span style=\"color: #00d7ff; text-decoration-color: #00d7ff\">None</span>, <span style=\"color: #00af00; text-decoration-color: #00af00\">14</span>, <span style=\"color: #00af00; text-decoration-color: #00af00\">14</span>, <span style=\"color: #00af00; text-decoration-color: #00af00\">64</span>)     │           <span style=\"color: #00af00; text-decoration-color: #00af00\">256</span> │\n",
       "│ (<span style=\"color: #0087ff; text-decoration-color: #0087ff\">BatchNormalization</span>)            │                        │               │\n",
       "├─────────────────────────────────┼────────────────────────┼───────────────┤\n",
       "│ conv2d_10 (<span style=\"color: #0087ff; text-decoration-color: #0087ff\">Conv2D</span>)              │ (<span style=\"color: #00d7ff; text-decoration-color: #00d7ff\">None</span>, <span style=\"color: #00af00; text-decoration-color: #00af00\">14</span>, <span style=\"color: #00af00; text-decoration-color: #00af00\">14</span>, <span style=\"color: #00af00; text-decoration-color: #00af00\">128</span>)    │        <span style=\"color: #00af00; text-decoration-color: #00af00\">73,856</span> │\n",
       "├─────────────────────────────────┼────────────────────────┼───────────────┤\n",
       "│ max_pooling2d_10 (<span style=\"color: #0087ff; text-decoration-color: #0087ff\">MaxPooling2D</span>) │ (<span style=\"color: #00d7ff; text-decoration-color: #00d7ff\">None</span>, <span style=\"color: #00af00; text-decoration-color: #00af00\">7</span>, <span style=\"color: #00af00; text-decoration-color: #00af00\">7</span>, <span style=\"color: #00af00; text-decoration-color: #00af00\">128</span>)      │             <span style=\"color: #00af00; text-decoration-color: #00af00\">0</span> │\n",
       "├─────────────────────────────────┼────────────────────────┼───────────────┤\n",
       "│ dropout_9 (<span style=\"color: #0087ff; text-decoration-color: #0087ff\">Dropout</span>)             │ (<span style=\"color: #00d7ff; text-decoration-color: #00d7ff\">None</span>, <span style=\"color: #00af00; text-decoration-color: #00af00\">7</span>, <span style=\"color: #00af00; text-decoration-color: #00af00\">7</span>, <span style=\"color: #00af00; text-decoration-color: #00af00\">128</span>)      │             <span style=\"color: #00af00; text-decoration-color: #00af00\">0</span> │\n",
       "├─────────────────────────────────┼────────────────────────┼───────────────┤\n",
       "│ batch_normalization_13          │ (<span style=\"color: #00d7ff; text-decoration-color: #00d7ff\">None</span>, <span style=\"color: #00af00; text-decoration-color: #00af00\">7</span>, <span style=\"color: #00af00; text-decoration-color: #00af00\">7</span>, <span style=\"color: #00af00; text-decoration-color: #00af00\">128</span>)      │           <span style=\"color: #00af00; text-decoration-color: #00af00\">512</span> │\n",
       "│ (<span style=\"color: #0087ff; text-decoration-color: #0087ff\">BatchNormalization</span>)            │                        │               │\n",
       "├─────────────────────────────────┼────────────────────────┼───────────────┤\n",
       "│ conv2d_11 (<span style=\"color: #0087ff; text-decoration-color: #0087ff\">Conv2D</span>)              │ (<span style=\"color: #00d7ff; text-decoration-color: #00d7ff\">None</span>, <span style=\"color: #00af00; text-decoration-color: #00af00\">7</span>, <span style=\"color: #00af00; text-decoration-color: #00af00\">7</span>, <span style=\"color: #00af00; text-decoration-color: #00af00\">256</span>)      │       <span style=\"color: #00af00; text-decoration-color: #00af00\">295,168</span> │\n",
       "├─────────────────────────────────┼────────────────────────┼───────────────┤\n",
       "│ max_pooling2d_11 (<span style=\"color: #0087ff; text-decoration-color: #0087ff\">MaxPooling2D</span>) │ (<span style=\"color: #00d7ff; text-decoration-color: #00d7ff\">None</span>, <span style=\"color: #00af00; text-decoration-color: #00af00\">3</span>, <span style=\"color: #00af00; text-decoration-color: #00af00\">3</span>, <span style=\"color: #00af00; text-decoration-color: #00af00\">256</span>)      │             <span style=\"color: #00af00; text-decoration-color: #00af00\">0</span> │\n",
       "├─────────────────────────────────┼────────────────────────┼───────────────┤\n",
       "│ dropout_10 (<span style=\"color: #0087ff; text-decoration-color: #0087ff\">Dropout</span>)            │ (<span style=\"color: #00d7ff; text-decoration-color: #00d7ff\">None</span>, <span style=\"color: #00af00; text-decoration-color: #00af00\">3</span>, <span style=\"color: #00af00; text-decoration-color: #00af00\">3</span>, <span style=\"color: #00af00; text-decoration-color: #00af00\">256</span>)      │             <span style=\"color: #00af00; text-decoration-color: #00af00\">0</span> │\n",
       "├─────────────────────────────────┼────────────────────────┼───────────────┤\n",
       "│ batch_normalization_14          │ (<span style=\"color: #00d7ff; text-decoration-color: #00d7ff\">None</span>, <span style=\"color: #00af00; text-decoration-color: #00af00\">3</span>, <span style=\"color: #00af00; text-decoration-color: #00af00\">3</span>, <span style=\"color: #00af00; text-decoration-color: #00af00\">256</span>)      │         <span style=\"color: #00af00; text-decoration-color: #00af00\">1,024</span> │\n",
       "│ (<span style=\"color: #0087ff; text-decoration-color: #0087ff\">BatchNormalization</span>)            │                        │               │\n",
       "├─────────────────────────────────┼────────────────────────┼───────────────┤\n",
       "│ flatten_3 (<span style=\"color: #0087ff; text-decoration-color: #0087ff\">Flatten</span>)             │ (<span style=\"color: #00d7ff; text-decoration-color: #00d7ff\">None</span>, <span style=\"color: #00af00; text-decoration-color: #00af00\">2304</span>)           │             <span style=\"color: #00af00; text-decoration-color: #00af00\">0</span> │\n",
       "├─────────────────────────────────┼────────────────────────┼───────────────┤\n",
       "│ dense_9 (<span style=\"color: #0087ff; text-decoration-color: #0087ff\">Dense</span>)                 │ (<span style=\"color: #00d7ff; text-decoration-color: #00d7ff\">None</span>, <span style=\"color: #00af00; text-decoration-color: #00af00\">512</span>)            │     <span style=\"color: #00af00; text-decoration-color: #00af00\">1,180,160</span> │\n",
       "├─────────────────────────────────┼────────────────────────┼───────────────┤\n",
       "│ dropout_11 (<span style=\"color: #0087ff; text-decoration-color: #0087ff\">Dropout</span>)            │ (<span style=\"color: #00d7ff; text-decoration-color: #00d7ff\">None</span>, <span style=\"color: #00af00; text-decoration-color: #00af00\">512</span>)            │             <span style=\"color: #00af00; text-decoration-color: #00af00\">0</span> │\n",
       "├─────────────────────────────────┼────────────────────────┼───────────────┤\n",
       "│ batch_normalization_15          │ (<span style=\"color: #00d7ff; text-decoration-color: #00d7ff\">None</span>, <span style=\"color: #00af00; text-decoration-color: #00af00\">512</span>)            │         <span style=\"color: #00af00; text-decoration-color: #00af00\">2,048</span> │\n",
       "│ (<span style=\"color: #0087ff; text-decoration-color: #0087ff\">BatchNormalization</span>)            │                        │               │\n",
       "├─────────────────────────────────┼────────────────────────┼───────────────┤\n",
       "│ dense_10 (<span style=\"color: #0087ff; text-decoration-color: #0087ff\">Dense</span>)                │ (<span style=\"color: #00d7ff; text-decoration-color: #00d7ff\">None</span>, <span style=\"color: #00af00; text-decoration-color: #00af00\">288</span>)            │       <span style=\"color: #00af00; text-decoration-color: #00af00\">147,744</span> │\n",
       "├─────────────────────────────────┼────────────────────────┼───────────────┤\n",
       "│ dense_11 (<span style=\"color: #0087ff; text-decoration-color: #0087ff\">Dense</span>)                │ (<span style=\"color: #00d7ff; text-decoration-color: #00d7ff\">None</span>, <span style=\"color: #00af00; text-decoration-color: #00af00\">26</span>)             │         <span style=\"color: #00af00; text-decoration-color: #00af00\">7,514</span> │\n",
       "└─────────────────────────────────┴────────────────────────┴───────────────┘\n",
       "</pre>\n"
      ],
      "text/plain": [
       "┏━━━━━━━━━━━━━━━━━━━━━━━━━━━━━━━━━┳━━━━━━━━━━━━━━━━━━━━━━━━┳━━━━━━━━━━━━━━━┓\n",
       "┃\u001b[1m \u001b[0m\u001b[1mLayer (type)                   \u001b[0m\u001b[1m \u001b[0m┃\u001b[1m \u001b[0m\u001b[1mOutput Shape          \u001b[0m\u001b[1m \u001b[0m┃\u001b[1m \u001b[0m\u001b[1m      Param #\u001b[0m\u001b[1m \u001b[0m┃\n",
       "┡━━━━━━━━━━━━━━━━━━━━━━━━━━━━━━━━━╇━━━━━━━━━━━━━━━━━━━━━━━━╇━━━━━━━━━━━━━━━┩\n",
       "│ conv2d_9 (\u001b[38;5;33mConv2D\u001b[0m)               │ (\u001b[38;5;45mNone\u001b[0m, \u001b[38;5;34m28\u001b[0m, \u001b[38;5;34m28\u001b[0m, \u001b[38;5;34m64\u001b[0m)     │         \u001b[38;5;34m1,792\u001b[0m │\n",
       "├─────────────────────────────────┼────────────────────────┼───────────────┤\n",
       "│ max_pooling2d_9 (\u001b[38;5;33mMaxPooling2D\u001b[0m)  │ (\u001b[38;5;45mNone\u001b[0m, \u001b[38;5;34m14\u001b[0m, \u001b[38;5;34m14\u001b[0m, \u001b[38;5;34m64\u001b[0m)     │             \u001b[38;5;34m0\u001b[0m │\n",
       "├─────────────────────────────────┼────────────────────────┼───────────────┤\n",
       "│ batch_normalization_12          │ (\u001b[38;5;45mNone\u001b[0m, \u001b[38;5;34m14\u001b[0m, \u001b[38;5;34m14\u001b[0m, \u001b[38;5;34m64\u001b[0m)     │           \u001b[38;5;34m256\u001b[0m │\n",
       "│ (\u001b[38;5;33mBatchNormalization\u001b[0m)            │                        │               │\n",
       "├─────────────────────────────────┼────────────────────────┼───────────────┤\n",
       "│ conv2d_10 (\u001b[38;5;33mConv2D\u001b[0m)              │ (\u001b[38;5;45mNone\u001b[0m, \u001b[38;5;34m14\u001b[0m, \u001b[38;5;34m14\u001b[0m, \u001b[38;5;34m128\u001b[0m)    │        \u001b[38;5;34m73,856\u001b[0m │\n",
       "├─────────────────────────────────┼────────────────────────┼───────────────┤\n",
       "│ max_pooling2d_10 (\u001b[38;5;33mMaxPooling2D\u001b[0m) │ (\u001b[38;5;45mNone\u001b[0m, \u001b[38;5;34m7\u001b[0m, \u001b[38;5;34m7\u001b[0m, \u001b[38;5;34m128\u001b[0m)      │             \u001b[38;5;34m0\u001b[0m │\n",
       "├─────────────────────────────────┼────────────────────────┼───────────────┤\n",
       "│ dropout_9 (\u001b[38;5;33mDropout\u001b[0m)             │ (\u001b[38;5;45mNone\u001b[0m, \u001b[38;5;34m7\u001b[0m, \u001b[38;5;34m7\u001b[0m, \u001b[38;5;34m128\u001b[0m)      │             \u001b[38;5;34m0\u001b[0m │\n",
       "├─────────────────────────────────┼────────────────────────┼───────────────┤\n",
       "│ batch_normalization_13          │ (\u001b[38;5;45mNone\u001b[0m, \u001b[38;5;34m7\u001b[0m, \u001b[38;5;34m7\u001b[0m, \u001b[38;5;34m128\u001b[0m)      │           \u001b[38;5;34m512\u001b[0m │\n",
       "│ (\u001b[38;5;33mBatchNormalization\u001b[0m)            │                        │               │\n",
       "├─────────────────────────────────┼────────────────────────┼───────────────┤\n",
       "│ conv2d_11 (\u001b[38;5;33mConv2D\u001b[0m)              │ (\u001b[38;5;45mNone\u001b[0m, \u001b[38;5;34m7\u001b[0m, \u001b[38;5;34m7\u001b[0m, \u001b[38;5;34m256\u001b[0m)      │       \u001b[38;5;34m295,168\u001b[0m │\n",
       "├─────────────────────────────────┼────────────────────────┼───────────────┤\n",
       "│ max_pooling2d_11 (\u001b[38;5;33mMaxPooling2D\u001b[0m) │ (\u001b[38;5;45mNone\u001b[0m, \u001b[38;5;34m3\u001b[0m, \u001b[38;5;34m3\u001b[0m, \u001b[38;5;34m256\u001b[0m)      │             \u001b[38;5;34m0\u001b[0m │\n",
       "├─────────────────────────────────┼────────────────────────┼───────────────┤\n",
       "│ dropout_10 (\u001b[38;5;33mDropout\u001b[0m)            │ (\u001b[38;5;45mNone\u001b[0m, \u001b[38;5;34m3\u001b[0m, \u001b[38;5;34m3\u001b[0m, \u001b[38;5;34m256\u001b[0m)      │             \u001b[38;5;34m0\u001b[0m │\n",
       "├─────────────────────────────────┼────────────────────────┼───────────────┤\n",
       "│ batch_normalization_14          │ (\u001b[38;5;45mNone\u001b[0m, \u001b[38;5;34m3\u001b[0m, \u001b[38;5;34m3\u001b[0m, \u001b[38;5;34m256\u001b[0m)      │         \u001b[38;5;34m1,024\u001b[0m │\n",
       "│ (\u001b[38;5;33mBatchNormalization\u001b[0m)            │                        │               │\n",
       "├─────────────────────────────────┼────────────────────────┼───────────────┤\n",
       "│ flatten_3 (\u001b[38;5;33mFlatten\u001b[0m)             │ (\u001b[38;5;45mNone\u001b[0m, \u001b[38;5;34m2304\u001b[0m)           │             \u001b[38;5;34m0\u001b[0m │\n",
       "├─────────────────────────────────┼────────────────────────┼───────────────┤\n",
       "│ dense_9 (\u001b[38;5;33mDense\u001b[0m)                 │ (\u001b[38;5;45mNone\u001b[0m, \u001b[38;5;34m512\u001b[0m)            │     \u001b[38;5;34m1,180,160\u001b[0m │\n",
       "├─────────────────────────────────┼────────────────────────┼───────────────┤\n",
       "│ dropout_11 (\u001b[38;5;33mDropout\u001b[0m)            │ (\u001b[38;5;45mNone\u001b[0m, \u001b[38;5;34m512\u001b[0m)            │             \u001b[38;5;34m0\u001b[0m │\n",
       "├─────────────────────────────────┼────────────────────────┼───────────────┤\n",
       "│ batch_normalization_15          │ (\u001b[38;5;45mNone\u001b[0m, \u001b[38;5;34m512\u001b[0m)            │         \u001b[38;5;34m2,048\u001b[0m │\n",
       "│ (\u001b[38;5;33mBatchNormalization\u001b[0m)            │                        │               │\n",
       "├─────────────────────────────────┼────────────────────────┼───────────────┤\n",
       "│ dense_10 (\u001b[38;5;33mDense\u001b[0m)                │ (\u001b[38;5;45mNone\u001b[0m, \u001b[38;5;34m288\u001b[0m)            │       \u001b[38;5;34m147,744\u001b[0m │\n",
       "├─────────────────────────────────┼────────────────────────┼───────────────┤\n",
       "│ dense_11 (\u001b[38;5;33mDense\u001b[0m)                │ (\u001b[38;5;45mNone\u001b[0m, \u001b[38;5;34m26\u001b[0m)             │         \u001b[38;5;34m7,514\u001b[0m │\n",
       "└─────────────────────────────────┴────────────────────────┴───────────────┘\n"
      ]
     },
     "metadata": {},
     "output_type": "display_data"
    },
    {
     "data": {
      "text/html": [
       "<pre style=\"white-space:pre;overflow-x:auto;line-height:normal;font-family:Menlo,'DejaVu Sans Mono',consolas,'Courier New',monospace\"><span style=\"font-weight: bold\"> Total params: </span><span style=\"color: #00af00; text-decoration-color: #00af00\">5,126,384</span> (19.56 MB)\n",
       "</pre>\n"
      ],
      "text/plain": [
       "\u001b[1m Total params: \u001b[0m\u001b[38;5;34m5,126,384\u001b[0m (19.56 MB)\n"
      ]
     },
     "metadata": {},
     "output_type": "display_data"
    },
    {
     "data": {
      "text/html": [
       "<pre style=\"white-space:pre;overflow-x:auto;line-height:normal;font-family:Menlo,'DejaVu Sans Mono',consolas,'Courier New',monospace\"><span style=\"font-weight: bold\"> Trainable params: </span><span style=\"color: #00af00; text-decoration-color: #00af00\">1,708,154</span> (6.52 MB)\n",
       "</pre>\n"
      ],
      "text/plain": [
       "\u001b[1m Trainable params: \u001b[0m\u001b[38;5;34m1,708,154\u001b[0m (6.52 MB)\n"
      ]
     },
     "metadata": {},
     "output_type": "display_data"
    },
    {
     "data": {
      "text/html": [
       "<pre style=\"white-space:pre;overflow-x:auto;line-height:normal;font-family:Menlo,'DejaVu Sans Mono',consolas,'Courier New',monospace\"><span style=\"font-weight: bold\"> Non-trainable params: </span><span style=\"color: #00af00; text-decoration-color: #00af00\">1,920</span> (7.50 KB)\n",
       "</pre>\n"
      ],
      "text/plain": [
       "\u001b[1m Non-trainable params: \u001b[0m\u001b[38;5;34m1,920\u001b[0m (7.50 KB)\n"
      ]
     },
     "metadata": {},
     "output_type": "display_data"
    },
    {
     "data": {
      "text/html": [
       "<pre style=\"white-space:pre;overflow-x:auto;line-height:normal;font-family:Menlo,'DejaVu Sans Mono',consolas,'Courier New',monospace\"><span style=\"font-weight: bold\"> Optimizer params: </span><span style=\"color: #00af00; text-decoration-color: #00af00\">3,416,310</span> (13.03 MB)\n",
       "</pre>\n"
      ],
      "text/plain": [
       "\u001b[1m Optimizer params: \u001b[0m\u001b[38;5;34m3,416,310\u001b[0m (13.03 MB)\n"
      ]
     },
     "metadata": {},
     "output_type": "display_data"
    }
   ],
   "source": [
    "model.summary()"
   ]
  },
  {
   "cell_type": "code",
   "execution_count": 70,
   "id": "b3f17d8b",
   "metadata": {
    "execution": {
     "iopub.execute_input": "2022-10-14T02:04:30.726221Z",
     "iopub.status.busy": "2022-10-14T02:04:30.725485Z",
     "iopub.status.idle": "2022-10-14T02:04:30.729887Z",
     "shell.execute_reply": "2022-10-14T02:04:30.729165Z"
    },
    "papermill": {
     "duration": 0.137524,
     "end_time": "2022-10-14T02:04:30.731790",
     "exception": false,
     "start_time": "2022-10-14T02:04:30.594266",
     "status": "completed"
    },
    "tags": []
   },
   "outputs": [],
   "source": [
    "time = np.arange(1, len(history.history['loss'])+1)"
   ]
  },
  {
   "cell_type": "code",
   "execution_count": 71,
   "id": "a4c5c1d6",
   "metadata": {
    "execution": {
     "iopub.execute_input": "2022-10-14T02:04:30.991311Z",
     "iopub.status.busy": "2022-10-14T02:04:30.990630Z",
     "iopub.status.idle": "2022-10-14T02:05:15.381806Z",
     "shell.execute_reply": "2022-10-14T02:05:15.380627Z"
    },
    "papermill": {
     "duration": 44.525158,
     "end_time": "2022-10-14T02:05:15.384760",
     "exception": false,
     "start_time": "2022-10-14T02:04:30.859602",
     "status": "completed"
    },
    "tags": []
   },
   "outputs": [],
   "source": [
    "import seaborn as sns"
   ]
  },
  {
   "cell_type": "markdown",
   "id": "7b2e333e",
   "metadata": {
    "papermill": {
     "duration": 0.128003,
     "end_time": "2022-10-14T02:05:15.641140",
     "exception": false,
     "start_time": "2022-10-14T02:05:15.513137",
     "status": "completed"
    },
    "tags": []
   },
   "source": [
    "# Resultados"
   ]
  },
  {
   "cell_type": "code",
   "execution_count": 72,
   "id": "6ac43da5",
   "metadata": {
    "execution": {
     "iopub.execute_input": "2022-10-14T02:05:15.971992Z",
     "iopub.status.busy": "2022-10-14T02:05:15.971357Z",
     "iopub.status.idle": "2022-10-14T02:05:16.268130Z",
     "shell.execute_reply": "2022-10-14T02:05:16.266966Z"
    },
    "papermill": {
     "duration": 0.501149,
     "end_time": "2022-10-14T02:05:16.270461",
     "exception": false,
     "start_time": "2022-10-14T02:05:15.769312",
     "status": "completed"
    },
    "tags": []
   },
   "outputs": [
    {
     "data": {
      "image/png": "[encoded data removed]",
      "text/plain": [
       "<Figure size 640x480 with 1 Axes>"
      ]
     },
     "metadata": {},
     "output_type": "display_data"
    }
   ],
   "source": [
    "sns.lineplot(data=history.history, x=time, y='loss')\n",
    "sns.lineplot(data=history.history, x=time, y='val_loss')\n",
    "plt.title('Loss fitting history')\n",
    "plt.legend(labels=['Loss', 'Validation loss'])\n",
    "plt.show()"
   ]
  },
  {
   "cell_type": "code",
   "execution_count": 73,
   "id": "9e000477",
   "metadata": {
    "execution": {
     "iopub.execute_input": "2022-10-14T02:05:16.523791Z",
     "iopub.status.busy": "2022-10-14T02:05:16.523352Z",
     "iopub.status.idle": "2022-10-14T02:05:16.780730Z",
     "shell.execute_reply": "2022-10-14T02:05:16.779561Z"
    },
    "papermill": {
     "duration": 0.387349,
     "end_time": "2022-10-14T02:05:16.782984",
     "exception": false,
     "start_time": "2022-10-14T02:05:16.395635",
     "status": "completed"
    },
    "tags": []
   },
   "outputs": [
    {
     "data": {
      "image/png": "[encoded data removed]",
      "text/plain": [
       "<Figure size 640x480 with 1 Axes>"
      ]
     },
     "metadata": {},
     "output_type": "display_data"
    }
   ],
   "source": [
    "sns.lineplot(data=history.history, x=time, y='val_sparse_categorical_accuracy')\n",
    "sns.lineplot(data=history.history, x=time, y='sparse_categorical_accuracy')\n",
    "plt.title('Accuracy fitting history')\n",
    "plt.legend(labels=['Accuracy', 'Valuation accuracy'])\n",
    "plt.show()"
   ]
  },
  {
   "cell_type": "code",
   "execution_count": 74,
   "id": "ba40be37",
   "metadata": {
    "execution": {
     "iopub.execute_input": "2022-10-14T02:05:17.039762Z",
     "iopub.status.busy": "2022-10-14T02:05:17.038531Z",
     "iopub.status.idle": "2022-10-14T02:05:17.339086Z",
     "shell.execute_reply": "2022-10-14T02:05:17.337490Z"
    },
    "papermill": {
     "duration": 0.433339,
     "end_time": "2022-10-14T02:05:17.342495",
     "exception": false,
     "start_time": "2022-10-14T02:05:16.909156",
     "status": "completed"
    },
    "tags": []
   },
   "outputs": [
    {
     "name": "stdout",
     "output_type": "stream",
     "text": [
      "\u001b[1m10/10\u001b[0m \u001b[32m━━━━━━━━━━━━━━━━━━━━\u001b[0m\u001b[37m\u001b[0m \u001b[1m0s\u001b[0m 17ms/step - loss: 0.5900 - sparse_categorical_accuracy: 0.8898\n"
     ]
    }
   ],
   "source": [
    "test_loss, test_acc = model.evaluate(X_test, y_test)"
   ]
  },
  {
   "cell_type": "code",
   "execution_count": 75,
   "id": "72b52768",
   "metadata": {
    "execution": {
     "iopub.execute_input": "2022-10-14T02:05:17.602503Z",
     "iopub.status.busy": "2022-10-14T02:05:17.602057Z",
     "iopub.status.idle": "2022-10-14T02:05:17.607875Z",
     "shell.execute_reply": "2022-10-14T02:05:17.606610Z"
    },
    "papermill": {
     "duration": 0.139669,
     "end_time": "2022-10-14T02:05:17.610288",
     "exception": false,
     "start_time": "2022-10-14T02:05:17.470619",
     "status": "completed"
    },
    "tags": []
   },
   "outputs": [
    {
     "name": "stdout",
     "output_type": "stream",
     "text": [
      "Loss 0.49646180868148804\n",
      "Accuracy 0.9038461446762085\n"
     ]
    }
   ],
   "source": [
    "print('Loss', test_loss)\n",
    "print('Accuracy', test_acc)"
   ]
  },
  {
   "cell_type": "code",
   "execution_count": 76,
   "id": "61b906e1",
   "metadata": {
    "execution": {
     "iopub.execute_input": "2022-10-14T02:05:17.868138Z",
     "iopub.status.busy": "2022-10-14T02:05:17.867759Z",
     "iopub.status.idle": "2022-10-14T02:05:18.303664Z",
     "shell.execute_reply": "2022-10-14T02:05:18.302510Z"
    },
    "papermill": {
     "duration": 0.566523,
     "end_time": "2022-10-14T02:05:18.305853",
     "exception": false,
     "start_time": "2022-10-14T02:05:17.739330",
     "status": "completed"
    },
    "tags": []
   },
   "outputs": [
    {
     "name": "stdout",
     "output_type": "stream",
     "text": [
      "index:  24\n",
      "\u001b[1m1/1\u001b[0m \u001b[32m━━━━━━━━━━━━━━━━━━━━\u001b[0m\u001b[37m\u001b[0m \u001b[1m0s\u001b[0m 248ms/step\n",
      "score:  [[3.3797870e-28 1.9044607e-16 6.0665949e-26 1.4605291e-24 7.8397723e-19\n",
      "  1.0915985e-22 6.1689410e-14 1.5486731e-12 8.4250850e-24 7.2463318e-23\n",
      "  1.3611462e-22 4.9395666e-17 6.7661620e-30 7.4200016e-26 1.5932485e-14\n",
      "  1.7203580e-18 8.6104755e-14 1.0000000e+00 2.5370276e-21 2.7638905e-16\n",
      "  1.2304685e-20 1.5585289e-12 3.8101777e-25 6.8999962e-26 4.3035179e-26\n",
      "  4.8557934e-17]]\n",
      "Predicted label: r\n"
     ]
    },
    {
     "data": {
      "image/png": "[encoded data removed]",
      "text/plain": [
       "<Figure size 640x480 with 1 Axes>"
      ]
     },
     "metadata": {},
     "output_type": "display_data"
    }
   ],
   "source": [
    "from random import randrange\n",
    "print(\"index: \", randrange(312))\n",
    "index_image = randrange(312)\n",
    "prediction_scores = model.predict(np.expand_dims(X_test[index_image], axis=0))\n",
    "predicted_index = np.argmax(prediction_scores)\n",
    "plt.imshow(X_test[index_image])\n",
    "print(\"score: \", prediction_scores)\n",
    "print(\"Predicted label: \" + class_names[predicted_index])"
   ]
  },
  {
   "cell_type": "markdown",
   "id": "9140fbe4",
   "metadata": {
    "papermill": {
     "duration": 0.131224,
     "end_time": "2022-10-14T02:05:18.565075",
     "exception": false,
     "start_time": "2022-10-14T02:05:18.433851",
     "status": "completed"
    },
    "tags": []
   },
   "source": [
    "# Referências\n",
    "\n",
    "https://www.kaggle.com/code/amanrosekaursethi/braille-character-detection-using-cnn"
   ]
  }
 ],
 "metadata": {
  "kernelspec": {
   "display_name": "img_env",
   "language": "python",
   "name": "python3"
  },
  "language_info": {
   "codemirror_mode": {
    "name": "ipython",
    "version": 3
   },
   "file_extension": ".py",
   "mimetype": "text/x-python",
   "name": "python",
   "nbconvert_exporter": "python",
   "pygments_lexer": "ipython3",
   "version": "3.12.7"
  },
  "papermill": {
   "default_parameters": {},
   "duration": 235.142021,
   "end_time": "2022-10-14T02:05:21.710599",
   "environment_variables": {},
   "exception": null,
   "input_path": "__notebook__.ipynb",
   "output_path": "__notebook__.ipynb",
   "parameters": {},
   "start_time": "2022-10-14T02:01:26.568578",
   "version": "2.3.4"
  }
 },
 "nbformat": 4,
 "nbformat_minor": 5
}
