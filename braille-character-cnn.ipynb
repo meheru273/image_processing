{
 "cells": [
  {
   "cell_type": "code",
   "execution_count": 77,
   "id": "4036ba89",
   "metadata": {
    "_cell_guid": "b1076dfc-b9ad-4769-8c92-a6c4dae69d19",
    "_uuid": "8f2839f25d086af736a60e9eeb907d3b93b6e0e5",
    "execution": {
     "iopub.execute_input": "2022-10-14T02:01:36.372551Z",
     "iopub.status.busy": "2022-10-14T02:01:36.371899Z",
     "iopub.status.idle": "2022-10-14T02:01:37.248975Z",
     "shell.execute_reply": "2022-10-14T02:01:37.247987Z"
    },
    "papermill": {
     "duration": 0.896972,
     "end_time": "2022-10-14T02:01:37.258431",
     "exception": false,
     "start_time": "2022-10-14T02:01:36.361459",
     "status": "completed"
    },
    "tags": []
   },
   "outputs": [],
   "source": [
    "import numpy as np \n",
    "import pandas as pd\n",
    "import os\n"
   ]
  },
  {
   "cell_type": "markdown",
   "id": "e0228f94",
   "metadata": {
    "papermill": {
     "duration": 0.009686,
     "end_time": "2022-10-14T02:01:37.278451",
     "exception": false,
     "start_time": "2022-10-14T02:01:37.268765",
     "status": "completed"
    },
    "tags": []
   },
   "source": [
    "# Preparando os dados"
   ]
  },
  {
   "cell_type": "code",
   "execution_count": 78,
   "id": "714ebb40",
   "metadata": {
    "execution": {
     "iopub.execute_input": "2022-10-14T02:01:37.301331Z",
     "iopub.status.busy": "2022-10-14T02:01:37.299892Z",
     "iopub.status.idle": "2022-10-14T02:01:37.305581Z",
     "shell.execute_reply": "2022-10-14T02:01:37.304719Z"
    },
    "papermill": {
     "duration": 0.019463,
     "end_time": "2022-10-14T02:01:37.307834",
     "exception": false,
     "start_time": "2022-10-14T02:01:37.288371",
     "status": "completed"
    },
    "tags": []
   },
   "outputs": [],
   "source": [
    "from pathlib import Path\n",
    "image_dir = Path('Braille Dataset')  "
   ]
  },
  {
   "cell_type": "code",
   "execution_count": 79,
   "id": "d927bb01",
   "metadata": {
    "execution": {
     "iopub.execute_input": "2022-10-14T02:01:37.329613Z",
     "iopub.status.busy": "2022-10-14T02:01:37.328833Z",
     "iopub.status.idle": "2022-10-14T02:01:37.347993Z",
     "shell.execute_reply": "2022-10-14T02:01:37.346643Z"
    },
    "papermill": {
     "duration": 0.032928,
     "end_time": "2022-10-14T02:01:37.350552",
     "exception": false,
     "start_time": "2022-10-14T02:01:37.317624",
     "status": "completed"
    },
    "tags": []
   },
   "outputs": [
    {
     "name": "stdout",
     "output_type": "stream",
     "text": [
      "Braille Dataset\\a1.JPG0dim.jpg\n"
     ]
    }
   ],
   "source": [
    "dir_list = list(image_dir.glob('*.jpg'))\n",
    "print(dir_list[0])"
   ]
  },
  {
   "cell_type": "code",
   "execution_count": 80,
   "id": "eef59b0b",
   "metadata": {
    "execution": {
     "iopub.execute_input": "2022-10-14T02:01:37.372701Z",
     "iopub.status.busy": "2022-10-14T02:01:37.371601Z",
     "iopub.status.idle": "2022-10-14T02:01:37.381187Z",
     "shell.execute_reply": "2022-10-14T02:01:37.380208Z"
    },
    "papermill": {
     "duration": 0.022883,
     "end_time": "2022-10-14T02:01:37.383408",
     "exception": false,
     "start_time": "2022-10-14T02:01:37.360525",
     "status": "completed"
    },
    "tags": []
   },
   "outputs": [
    {
     "data": {
      "text/plain": [
       "1560"
      ]
     },
     "execution_count": 80,
     "metadata": {},
     "output_type": "execute_result"
    }
   ],
   "source": [
    "image_count = len(dir_list)\n",
    "image_count"
   ]
  },
  {
   "cell_type": "code",
   "execution_count": 81,
   "id": "2647ec23",
   "metadata": {
    "execution": {
     "iopub.execute_input": "2022-10-14T02:01:37.406699Z",
     "iopub.status.busy": "2022-10-14T02:01:37.405938Z",
     "iopub.status.idle": "2022-10-14T02:01:37.415815Z",
     "shell.execute_reply": "2022-10-14T02:01:37.414974Z"
    },
    "papermill": {
     "duration": 0.023305,
     "end_time": "2022-10-14T02:01:37.418185",
     "exception": false,
     "start_time": "2022-10-14T02:01:37.394880",
     "status": "completed"
    },
    "tags": []
   },
   "outputs": [],
   "source": [
    "name_list = []\n",
    "for i in dir_list:\n",
    "    name_list.append(os.path.basename(i)[0])"
   ]
  },
  {
   "cell_type": "code",
   "execution_count": 82,
   "id": "058845bf",
   "metadata": {
    "execution": {
     "iopub.execute_input": "2022-10-14T02:01:37.439897Z",
     "iopub.status.busy": "2022-10-14T02:01:37.439509Z",
     "iopub.status.idle": "2022-10-14T02:01:42.963487Z",
     "shell.execute_reply": "2022-10-14T02:01:42.962213Z"
    },
    "papermill": {
     "duration": 5.538103,
     "end_time": "2022-10-14T02:01:42.966259",
     "exception": false,
     "start_time": "2022-10-14T02:01:37.428156",
     "status": "completed"
    },
    "tags": []
   },
   "outputs": [],
   "source": [
    "import cv2\n",
    "images = []\n",
    "for dir in dir_list:\n",
    "    I = cv2.imread(str(dir))\n",
    "    images.append(I)"
   ]
  },
  {
   "cell_type": "code",
   "execution_count": 83,
   "id": "acc4f9a3",
   "metadata": {
    "execution": {
     "iopub.execute_input": "2022-10-14T02:01:42.988233Z",
     "iopub.status.busy": "2022-10-14T02:01:42.987830Z",
     "iopub.status.idle": "2022-10-14T02:01:42.997735Z",
     "shell.execute_reply": "2022-10-14T02:01:42.996769Z"
    },
    "papermill": {
     "duration": 0.024053,
     "end_time": "2022-10-14T02:01:43.000413",
     "exception": false,
     "start_time": "2022-10-14T02:01:42.976360",
     "status": "completed"
    },
    "tags": []
   },
   "outputs": [],
   "source": [
    "images_list = np.array(images)\n",
    "name_list = np.array(name_list).T "
   ]
  },
  {
   "cell_type": "code",
   "execution_count": 84,
   "id": "bda0c203",
   "metadata": {
    "execution": {
     "iopub.execute_input": "2022-10-14T02:01:43.022110Z",
     "iopub.status.busy": "2022-10-14T02:01:43.021716Z",
     "iopub.status.idle": "2022-10-14T02:01:43.958886Z",
     "shell.execute_reply": "2022-10-14T02:01:43.957030Z"
    },
    "papermill": {
     "duration": 0.951029,
     "end_time": "2022-10-14T02:01:43.961561",
     "exception": false,
     "start_time": "2022-10-14T02:01:43.010532",
     "status": "completed"
    },
    "tags": []
   },
   "outputs": [
    {
     "name": "stdout",
     "output_type": "stream",
     "text": [
      "[[[0.76078431 0.76078431 0.76078431]\n",
      "  [0.8        0.8        0.8       ]\n",
      "  [0.80784314 0.80784314 0.80784314]\n",
      "  ...\n",
      "  [0.76862745 0.76862745 0.76862745]\n",
      "  [0.76862745 0.76862745 0.76862745]\n",
      "  [0.76862745 0.76862745 0.76862745]]\n",
      "\n",
      " [[0.75686275 0.75686275 0.75686275]\n",
      "  [0.69411765 0.69411765 0.69411765]\n",
      "  [0.7372549  0.7372549  0.7372549 ]\n",
      "  ...\n",
      "  [0.76862745 0.76862745 0.76862745]\n",
      "  [0.76862745 0.76862745 0.76862745]\n",
      "  [0.76862745 0.76862745 0.76862745]]\n",
      "\n",
      " [[0.78039216 0.78039216 0.78039216]\n",
      "  [0.79607843 0.79607843 0.79607843]\n",
      "  [0.76470588 0.76470588 0.76470588]\n",
      "  ...\n",
      "  [0.76862745 0.76862745 0.76862745]\n",
      "  [0.76862745 0.76862745 0.76862745]\n",
      "  [0.76862745 0.76862745 0.76862745]]\n",
      "\n",
      " ...\n",
      "\n",
      " [[0.76862745 0.76862745 0.76862745]\n",
      "  [0.77254902 0.77254902 0.77254902]\n",
      "  [0.76470588 0.76470588 0.76470588]\n",
      "  ...\n",
      "  [0.76862745 0.76862745 0.76862745]\n",
      "  [0.76862745 0.76862745 0.76862745]\n",
      "  [0.76862745 0.76862745 0.76862745]]\n",
      "\n",
      " [[0.77254902 0.77254902 0.77254902]\n",
      "  [0.77647059 0.77647059 0.77647059]\n",
      "  [0.77647059 0.77647059 0.77647059]\n",
      "  ...\n",
      "  [0.76862745 0.76862745 0.76862745]\n",
      "  [0.76862745 0.76862745 0.76862745]\n",
      "  [0.76862745 0.76862745 0.76862745]]\n",
      "\n",
      " [[0.76078431 0.76078431 0.76078431]\n",
      "  [0.76862745 0.76862745 0.76862745]\n",
      "  [0.77254902 0.77254902 0.77254902]\n",
      "  ...\n",
      "  [0.76862745 0.76862745 0.76862745]\n",
      "  [0.76862745 0.76862745 0.76862745]\n",
      "  [0.76862745 0.76862745 0.76862745]]]\n"
     ]
    }
   ],
   "source": [
    "from sklearn.preprocessing import LabelEncoder\n",
    "\n",
    "le = LabelEncoder()\n",
    "name_list = le.fit_transform(name_list)\n",
    "\n",
    "images_list = images_list / 255.0 \n",
    "print(images_list[0])"
   ]
  },
  {
   "cell_type": "code",
   "execution_count": 85,
   "id": "a5f6895d",
   "metadata": {
    "execution": {
     "iopub.execute_input": "2022-10-14T02:01:43.984854Z",
     "iopub.status.busy": "2022-10-14T02:01:43.983935Z",
     "iopub.status.idle": "2022-10-14T02:01:44.164601Z",
     "shell.execute_reply": "2022-10-14T02:01:44.163382Z"
    },
    "papermill": {
     "duration": 0.195381,
     "end_time": "2022-10-14T02:01:44.167115",
     "exception": false,
     "start_time": "2022-10-14T02:01:43.971734",
     "status": "completed"
    },
    "tags": []
   },
   "outputs": [
    {
     "data": {
      "text/plain": [
       "<matplotlib.image.AxesImage at 0x192eb4464b0>"
      ]
     },
     "execution_count": 85,
     "metadata": {},
     "output_type": "execute_result"
    },
    {
     "data": {
      "image/png": "[encoded data removed]",
      "text/plain": [
       "<Figure size 640x480 with 1 Axes>"
      ]
     },
     "metadata": {},
     "output_type": "display_data"
    }
   ],
   "source": [
    "import matplotlib.pyplot as plt\n",
    "\n",
    "plt.imshow(images_list[0])"
   ]
  },
  {
   "cell_type": "code",
   "execution_count": 86,
   "id": "70b7c9f9",
   "metadata": {
    "execution": {
     "iopub.execute_input": "2022-10-14T02:01:44.190269Z",
     "iopub.status.busy": "2022-10-14T02:01:44.189543Z",
     "iopub.status.idle": "2022-10-14T02:01:44.240522Z",
     "shell.execute_reply": "2022-10-14T02:01:44.239538Z"
    },
    "papermill": {
     "duration": 0.065437,
     "end_time": "2022-10-14T02:01:44.243096",
     "exception": false,
     "start_time": "2022-10-14T02:01:44.177659",
     "status": "completed"
    },
    "tags": []
   },
   "outputs": [],
   "source": [
    "from sklearn.model_selection import train_test_split"
   ]
  },
  {
   "cell_type": "code",
   "execution_count": 87,
   "id": "c4788b7e",
   "metadata": {
    "execution": {
     "iopub.execute_input": "2022-10-14T02:01:44.265668Z",
     "iopub.status.busy": "2022-10-14T02:01:44.264966Z",
     "iopub.status.idle": "2022-10-14T02:01:44.282745Z",
     "shell.execute_reply": "2022-10-14T02:01:44.281752Z"
    },
    "papermill": {
     "duration": 0.031701,
     "end_time": "2022-10-14T02:01:44.285147",
     "exception": false,
     "start_time": "2022-10-14T02:01:44.253446",
     "status": "completed"
    },
    "tags": []
   },
   "outputs": [],
   "source": [
    "X_train, X_test, y_train, y_test = train_test_split(images_list, name_list, test_size=0.2, random_state=42)"
   ]
  },
  {
   "cell_type": "code",
   "execution_count": 88,
   "id": "16e9cfce",
   "metadata": {
    "execution": {
     "iopub.execute_input": "2022-10-14T02:01:44.308610Z",
     "iopub.status.busy": "2022-10-14T02:01:44.307451Z",
     "iopub.status.idle": "2022-10-14T02:01:45.593977Z",
     "shell.execute_reply": "2022-10-14T02:01:45.592832Z"
    },
    "papermill": {
     "duration": 1.301283,
     "end_time": "2022-10-14T02:01:45.597164",
     "exception": false,
     "start_time": "2022-10-14T02:01:44.295881",
     "status": "completed"
    },
    "tags": []
   },
   "outputs": [
    {
     "data": {
      "image/png": "[encoded data removed]",
      "text/plain": [
       "<Figure size 1000x1000 with 30 Axes>"
      ]
     },
     "metadata": {},
     "output_type": "display_data"
    }
   ],
   "source": [
    "class_names = ['a', 'b', 'c', 'd', 'e', 'f', 'g', \n",
    "               'h', 'i', 'j', 'k', 'l', 'm', 'n', \n",
    "               'o', 'p', 'q', 'r', 's', 't', 'u', \n",
    "               'v', 'w', 'x', 'y', 'z']\n",
    "\n",
    "plt.figure(figsize=(10,10))\n",
    "for i in range(30):\n",
    "    plt.subplot(6,5,i+1)\n",
    "    plt.xticks([])\n",
    "    plt.yticks([])\n",
    "    plt.grid(False)\n",
    "    plt.imshow(X_train[i])\n",
    "    plt.xlabel(class_names[y_train[i]])\n",
    "plt.show()"
   ]
  },
  {
   "cell_type": "code",
   "execution_count": 89,
   "id": "29d1a8d8",
   "metadata": {
    "execution": {
     "iopub.execute_input": "2022-10-14T02:01:45.650576Z",
     "iopub.status.busy": "2022-10-14T02:01:45.650114Z",
     "iopub.status.idle": "2022-10-14T02:01:51.833911Z",
     "shell.execute_reply": "2022-10-14T02:01:51.832848Z"
    },
    "papermill": {
     "duration": 6.20094,
     "end_time": "2022-10-14T02:01:51.836758",
     "exception": false,
     "start_time": "2022-10-14T02:01:45.635818",
     "status": "completed"
    },
    "tags": []
   },
   "outputs": [
    {
     "name": "stderr",
     "output_type": "stream",
     "text": [
      "c:\\Users\\ASUS\\anaconda3\\envs\\img_env\\Lib\\site-packages\\keras\\src\\layers\\convolutional\\base_conv.py:107: UserWarning: Do not pass an `input_shape`/`input_dim` argument to a layer. When using Sequential models, prefer using an `Input(shape)` object as the first layer in the model instead.\n",
      "  super().__init__(activity_regularizer=activity_regularizer, **kwargs)\n",
      "c:\\Users\\ASUS\\anaconda3\\envs\\img_env\\Lib\\site-packages\\keras\\src\\layers\\regularization\\dropout.py:42: UserWarning: Do not pass an `input_shape`/`input_dim` argument to a layer. When using Sequential models, prefer using an `Input(shape)` object as the first layer in the model instead.\n",
      "  super().__init__(**kwargs)\n"
     ]
    }
   ],
   "source": [
    "import tensorflow as tf\n",
    "from tensorflow import keras\n",
    "\n",
    "model = keras.Sequential([\n",
    "    keras.layers.Conv2D(filters=64, kernel_size=(3,3), padding='same', strides=(1, 1), activation='relu', input_shape=(28,28,3)),\n",
    "    keras.layers.MaxPooling2D(pool_size=(2,2)),\n",
    "    keras.layers.BatchNormalization(),\n",
    "\n",
    "    keras.layers.Conv2D(filters=128, kernel_size=(3,3), padding='same', strides=(1,1), activation='relu'),\n",
    "    keras.layers.MaxPooling2D(pool_size=(2,2)),\n",
    "    keras.layers.Dropout(0.2, input_shape=(28,1)),\n",
    "    keras.layers.BatchNormalization(),\n",
    "\n",
    "    keras.layers.Conv2D(filters=256, kernel_size=(3,3), padding='same', strides=(1,1), activation='relu'),\n",
    "    keras.layers.MaxPooling2D(pool_size=(2,2)),\n",
    "    keras.layers.Dropout(0.25, input_shape=(28,1)),\n",
    "    keras.layers.BatchNormalization(),\n",
    "    \n",
    "    keras.layers.Flatten(),\n",
    "    \n",
    "    keras.layers.Dense(units=512, activation=\"relu\"),\n",
    "    keras.layers.Dropout(0.5, input_shape=(28,1)),\n",
    "    keras.layers.BatchNormalization(),\n",
    "\n",
    "    keras.layers.Dense(units=288, activation=\"relu\"),\n",
    "    keras.layers.Dense(units=26, activation=\"softmax\") \n",
    "])"
   ]
  },
  {
   "cell_type": "code",
   "execution_count": 90,
   "id": "628e0368",
   "metadata": {
    "execution": {
     "iopub.execute_input": "2022-10-14T02:01:51.863973Z",
     "iopub.status.busy": "2022-10-14T02:01:51.863584Z",
     "iopub.status.idle": "2022-10-14T02:01:51.870630Z",
     "shell.execute_reply": "2022-10-14T02:01:51.869734Z"
    },
    "papermill": {
     "duration": 0.023386,
     "end_time": "2022-10-14T02:01:51.872889",
     "exception": false,
     "start_time": "2022-10-14T02:01:51.849503",
     "status": "completed"
    },
    "tags": []
   },
   "outputs": [],
   "source": [
    "# checkpoint_path = \"./braille.ckpt\"\n",
    "# checkpoint_dir = os.path.dirname(checkpoint_path)\n",
    "# batch_size = 32\n",
    "\n",
    "# # Cria um callback que salve os pesos do modelo em intervalos de 5 épocas\n",
    "# save_callback = tf.keras.callbacks.ModelCheckpoint(\n",
    "#     filepath=checkpoint_path, \n",
    "#     verbose=1, \n",
    "#     save_weights_only=True,\n",
    "#     save_freq=5*batch_size)"
   ]
  },
  {
   "cell_type": "markdown",
   "id": "4989caf7",
   "metadata": {
    "papermill": {
     "duration": 0.0122,
     "end_time": "2022-10-14T02:01:51.897975",
     "exception": false,
     "start_time": "2022-10-14T02:01:51.885775",
     "status": "completed"
    },
    "tags": []
   },
   "source": [
    "# Treinando o modelo"
   ]
  },
  {
   "cell_type": "code",
   "execution_count": 91,
   "id": "597b2d13",
   "metadata": {
    "execution": {
     "iopub.execute_input": "2022-10-14T02:01:51.924266Z",
     "iopub.status.busy": "2022-10-14T02:01:51.923906Z",
     "iopub.status.idle": "2022-10-14T02:01:51.937624Z",
     "shell.execute_reply": "2022-10-14T02:01:51.936748Z"
    },
    "papermill": {
     "duration": 0.029723,
     "end_time": "2022-10-14T02:01:51.939785",
     "exception": false,
     "start_time": "2022-10-14T02:01:51.910062",
     "status": "completed"
    },
    "tags": []
   },
   "outputs": [],
   "source": [
    "model.compile(optimizer=\"Adam\", loss=\"SparseCategoricalCrossentropy\", metrics=[\"sparse_categorical_accuracy\"])"
   ]
  },
  {
   "cell_type": "code",
   "execution_count": 92,
   "id": "6cc58b57",
   "metadata": {
    "execution": {
     "iopub.execute_input": "2022-10-14T02:01:51.966878Z",
     "iopub.status.busy": "2022-10-14T02:01:51.966524Z",
     "iopub.status.idle": "2022-10-14T02:01:51.971028Z",
     "shell.execute_reply": "2022-10-14T02:01:51.970051Z"
    },
    "papermill": {
     "duration": 0.020544,
     "end_time": "2022-10-14T02:01:51.973142",
     "exception": false,
     "start_time": "2022-10-14T02:01:51.952598",
     "status": "completed"
    },
    "tags": []
   },
   "outputs": [],
   "source": [
    "from keras.callbacks import EarlyStopping"
   ]
  },
  {
   "cell_type": "code",
   "execution_count": 93,
   "id": "91ceb3df",
   "metadata": {
    "execution": {
     "iopub.execute_input": "2022-10-14T02:01:51.999752Z",
     "iopub.status.busy": "2022-10-14T02:01:51.999363Z",
     "iopub.status.idle": "2022-10-14T02:01:52.004303Z",
     "shell.execute_reply": "2022-10-14T02:01:52.003321Z"
    },
    "papermill": {
     "duration": 0.020953,
     "end_time": "2022-10-14T02:01:52.006592",
     "exception": false,
     "start_time": "2022-10-14T02:01:51.985639",
     "status": "completed"
    },
    "tags": []
   },
   "outputs": [],
   "source": [
    "es1 = EarlyStopping(patience=20, monitor=\"val_sparse_categorical_accuracy\", mode=\"auto\")\n",
    "es2 = EarlyStopping(patience=20, monitor=\"val_loss\", mode=\"auto\")"
   ]
  },
  {
   "cell_type": "code",
   "execution_count": 94,
   "id": "269d46a8",
   "metadata": {
    "execution": {
     "iopub.execute_input": "2022-10-14T02:01:52.033516Z",
     "iopub.status.busy": "2022-10-14T02:01:52.033163Z",
     "iopub.status.idle": "2022-10-14T02:04:30.194746Z",
     "shell.execute_reply": "2022-10-14T02:04:30.193187Z"
    },
    "papermill": {
     "duration": 158.178147,
     "end_time": "2022-10-14T02:04:30.197365",
     "exception": false,
     "start_time": "2022-10-14T02:01:52.019218",
     "status": "completed"
    },
    "tags": []
   },
   "outputs": [
    {
     "name": "stdout",
     "output_type": "stream",
     "text": [
      "Epoch 1/100\n",
      "\u001b[1m28/28\u001b[0m \u001b[32m━━━━━━━━━━━━━━━━━━━━\u001b[0m\u001b[37m\u001b[0m \u001b[1m5s\u001b[0m 63ms/step - loss: 3.4212 - sparse_categorical_accuracy: 0.0944 - val_loss: 3.4787 - val_sparse_categorical_accuracy: 0.0427\n",
      "Epoch 2/100\n",
      "\u001b[1m28/28\u001b[0m \u001b[32m━━━━━━━━━━━━━━━━━━━━\u001b[0m\u001b[37m\u001b[0m \u001b[1m1s\u001b[0m 51ms/step - loss: 2.1537 - sparse_categorical_accuracy: 0.3765 - val_loss: 5.5466 - val_sparse_categorical_accuracy: 0.0427\n",
      "Epoch 3/100\n",
      "\u001b[1m28/28\u001b[0m \u001b[32m━━━━━━━━━━━━━━━━━━━━\u001b[0m\u001b[37m\u001b[0m \u001b[1m1s\u001b[0m 50ms/step - loss: 1.3406 - sparse_categorical_accuracy: 0.6125 - val_loss: 7.7904 - val_sparse_categorical_accuracy: 0.0427\n",
      "Epoch 4/100\n",
      "\u001b[1m28/28\u001b[0m \u001b[32m━━━━━━━━━━━━━━━━━━━━\u001b[0m\u001b[37m\u001b[0m \u001b[1m1s\u001b[0m 50ms/step - loss: 1.0275 - sparse_categorical_accuracy: 0.6826 - val_loss: 9.5896 - val_sparse_categorical_accuracy: 0.0427\n",
      "Epoch 5/100\n",
      "\u001b[1m28/28\u001b[0m \u001b[32m━━━━━━━━━━━━━━━━━━━━\u001b[0m\u001b[37m\u001b[0m \u001b[1m1s\u001b[0m 51ms/step - loss: 0.8893 - sparse_categorical_accuracy: 0.7490 - val_loss: 10.4389 - val_sparse_categorical_accuracy: 0.0427\n",
      "Epoch 6/100\n",
      "\u001b[1m28/28\u001b[0m \u001b[32m━━━━━━━━━━━━━━━━━━━━\u001b[0m\u001b[37m\u001b[0m \u001b[1m1s\u001b[0m 51ms/step - loss: 0.6584 - sparse_categorical_accuracy: 0.7967 - val_loss: 10.9239 - val_sparse_categorical_accuracy: 0.0427\n",
      "Epoch 7/100\n",
      "\u001b[1m28/28\u001b[0m \u001b[32m━━━━━━━━━━━━━━━━━━━━\u001b[0m\u001b[37m\u001b[0m \u001b[1m1s\u001b[0m 53ms/step - loss: 0.6120 - sparse_categorical_accuracy: 0.8296 - val_loss: 13.3507 - val_sparse_categorical_accuracy: 0.0427\n",
      "Epoch 8/100\n",
      "\u001b[1m28/28\u001b[0m \u001b[32m━━━━━━━━━━━━━━━━━━━━\u001b[0m\u001b[37m\u001b[0m \u001b[1m1s\u001b[0m 50ms/step - loss: 0.4590 - sparse_categorical_accuracy: 0.8491 - val_loss: 13.8993 - val_sparse_categorical_accuracy: 0.0427\n",
      "Epoch 9/100\n",
      "\u001b[1m28/28\u001b[0m \u001b[32m━━━━━━━━━━━━━━━━━━━━\u001b[0m\u001b[37m\u001b[0m \u001b[1m1s\u001b[0m 53ms/step - loss: 0.4011 - sparse_categorical_accuracy: 0.8800 - val_loss: 14.6702 - val_sparse_categorical_accuracy: 0.0427\n",
      "Epoch 10/100\n",
      "\u001b[1m28/28\u001b[0m \u001b[32m━━━━━━━━━━━━━━━━━━━━\u001b[0m\u001b[37m\u001b[0m \u001b[1m1s\u001b[0m 51ms/step - loss: 0.3094 - sparse_categorical_accuracy: 0.9334 - val_loss: 16.8701 - val_sparse_categorical_accuracy: 0.0427\n",
      "Epoch 11/100\n",
      "\u001b[1m28/28\u001b[0m \u001b[32m━━━━━━━━━━━━━━━━━━━━\u001b[0m\u001b[37m\u001b[0m \u001b[1m2s\u001b[0m 53ms/step - loss: 0.2636 - sparse_categorical_accuracy: 0.9157 - val_loss: 18.6001 - val_sparse_categorical_accuracy: 0.0427\n",
      "Epoch 12/100\n",
      "\u001b[1m28/28\u001b[0m \u001b[32m━━━━━━━━━━━━━━━━━━━━\u001b[0m\u001b[37m\u001b[0m \u001b[1m1s\u001b[0m 51ms/step - loss: 0.2463 - sparse_categorical_accuracy: 0.9328 - val_loss: 16.3482 - val_sparse_categorical_accuracy: 0.0427\n",
      "Epoch 13/100\n",
      "\u001b[1m28/28\u001b[0m \u001b[32m━━━━━━━━━━━━━━━━━━━━\u001b[0m\u001b[37m\u001b[0m \u001b[1m1s\u001b[0m 52ms/step - loss: 0.2519 - sparse_categorical_accuracy: 0.9180 - val_loss: 17.5544 - val_sparse_categorical_accuracy: 0.0427\n",
      "Epoch 14/100\n",
      "\u001b[1m28/28\u001b[0m \u001b[32m━━━━━━━━━━━━━━━━━━━━\u001b[0m\u001b[37m\u001b[0m \u001b[1m3s\u001b[0m 49ms/step - loss: 0.1826 - sparse_categorical_accuracy: 0.9439 - val_loss: 16.2780 - val_sparse_categorical_accuracy: 0.0427\n",
      "Epoch 15/100\n",
      "\u001b[1m28/28\u001b[0m \u001b[32m━━━━━━━━━━━━━━━━━━━━\u001b[0m\u001b[37m\u001b[0m \u001b[1m1s\u001b[0m 52ms/step - loss: 0.1624 - sparse_categorical_accuracy: 0.9512 - val_loss: 17.3979 - val_sparse_categorical_accuracy: 0.0427\n",
      "Epoch 16/100\n",
      "\u001b[1m28/28\u001b[0m \u001b[32m━━━━━━━━━━━━━━━━━━━━\u001b[0m\u001b[37m\u001b[0m \u001b[1m3s\u001b[0m 52ms/step - loss: 0.1980 - sparse_categorical_accuracy: 0.9419 - val_loss: 14.2563 - val_sparse_categorical_accuracy: 0.0427\n",
      "Epoch 17/100\n",
      "\u001b[1m28/28\u001b[0m \u001b[32m━━━━━━━━━━━━━━━━━━━━\u001b[0m\u001b[37m\u001b[0m \u001b[1m2s\u001b[0m 53ms/step - loss: 0.1322 - sparse_categorical_accuracy: 0.9671 - val_loss: 12.7145 - val_sparse_categorical_accuracy: 0.0427\n",
      "Epoch 18/100\n",
      "\u001b[1m28/28\u001b[0m \u001b[32m━━━━━━━━━━━━━━━━━━━━\u001b[0m\u001b[37m\u001b[0m \u001b[1m1s\u001b[0m 51ms/step - loss: 0.1604 - sparse_categorical_accuracy: 0.9547 - val_loss: 12.7053 - val_sparse_categorical_accuracy: 0.0427\n",
      "Epoch 19/100\n",
      "\u001b[1m28/28\u001b[0m \u001b[32m━━━━━━━━━━━━━━━━━━━━\u001b[0m\u001b[37m\u001b[0m \u001b[1m1s\u001b[0m 50ms/step - loss: 0.1511 - sparse_categorical_accuracy: 0.9478 - val_loss: 8.3516 - val_sparse_categorical_accuracy: 0.0587\n",
      "Epoch 20/100\n",
      "\u001b[1m28/28\u001b[0m \u001b[32m━━━━━━━━━━━━━━━━━━━━\u001b[0m\u001b[37m\u001b[0m \u001b[1m2s\u001b[0m 54ms/step - loss: 0.1941 - sparse_categorical_accuracy: 0.9463 - val_loss: 4.1997 - val_sparse_categorical_accuracy: 0.2160\n",
      "Epoch 21/100\n",
      "\u001b[1m28/28\u001b[0m \u001b[32m━━━━━━━━━━━━━━━━━━━━\u001b[0m\u001b[37m\u001b[0m \u001b[1m1s\u001b[0m 52ms/step - loss: 0.1662 - sparse_categorical_accuracy: 0.9417 - val_loss: 2.8744 - val_sparse_categorical_accuracy: 0.3627\n",
      "Epoch 22/100\n",
      "\u001b[1m28/28\u001b[0m \u001b[32m━━━━━━━━━━━━━━━━━━━━\u001b[0m\u001b[37m\u001b[0m \u001b[1m1s\u001b[0m 52ms/step - loss: 0.1327 - sparse_categorical_accuracy: 0.9635 - val_loss: 0.8071 - val_sparse_categorical_accuracy: 0.7840\n",
      "Epoch 23/100\n",
      "\u001b[1m28/28\u001b[0m \u001b[32m━━━━━━━━━━━━━━━━━━━━\u001b[0m\u001b[37m\u001b[0m \u001b[1m1s\u001b[0m 50ms/step - loss: 0.1376 - sparse_categorical_accuracy: 0.9495 - val_loss: 0.7139 - val_sparse_categorical_accuracy: 0.8240\n",
      "Epoch 24/100\n",
      "\u001b[1m28/28\u001b[0m \u001b[32m━━━━━━━━━━━━━━━━━━━━\u001b[0m\u001b[37m\u001b[0m \u001b[1m2s\u001b[0m 53ms/step - loss: 0.1718 - sparse_categorical_accuracy: 0.9446 - val_loss: 0.4750 - val_sparse_categorical_accuracy: 0.8907\n",
      "Epoch 25/100\n",
      "\u001b[1m28/28\u001b[0m \u001b[32m━━━━━━━━━━━━━━━━━━━━\u001b[0m\u001b[37m\u001b[0m \u001b[1m2s\u001b[0m 55ms/step - loss: 0.0866 - sparse_categorical_accuracy: 0.9798 - val_loss: 0.4526 - val_sparse_categorical_accuracy: 0.8933\n",
      "Epoch 26/100\n",
      "\u001b[1m28/28\u001b[0m \u001b[32m━━━━━━━━━━━━━━━━━━━━\u001b[0m\u001b[37m\u001b[0m \u001b[1m2s\u001b[0m 54ms/step - loss: 0.0919 - sparse_categorical_accuracy: 0.9731 - val_loss: 0.5080 - val_sparse_categorical_accuracy: 0.8800\n",
      "Epoch 27/100\n",
      "\u001b[1m28/28\u001b[0m \u001b[32m━━━━━━━━━━━━━━━━━━━━\u001b[0m\u001b[37m\u001b[0m \u001b[1m2s\u001b[0m 61ms/step - loss: 0.0993 - sparse_categorical_accuracy: 0.9640 - val_loss: 0.5131 - val_sparse_categorical_accuracy: 0.8907\n",
      "Epoch 28/100\n",
      "\u001b[1m28/28\u001b[0m \u001b[32m━━━━━━━━━━━━━━━━━━━━\u001b[0m\u001b[37m\u001b[0m \u001b[1m2s\u001b[0m 59ms/step - loss: 0.1170 - sparse_categorical_accuracy: 0.9599 - val_loss: 0.9139 - val_sparse_categorical_accuracy: 0.7733\n",
      "Epoch 29/100\n",
      "\u001b[1m28/28\u001b[0m \u001b[32m━━━━━━━━━━━━━━━━━━━━\u001b[0m\u001b[37m\u001b[0m \u001b[1m2s\u001b[0m 53ms/step - loss: 0.2382 - sparse_categorical_accuracy: 0.9225 - val_loss: 1.1126 - val_sparse_categorical_accuracy: 0.7733\n",
      "Epoch 30/100\n",
      "\u001b[1m28/28\u001b[0m \u001b[32m━━━━━━━━━━━━━━━━━━━━\u001b[0m\u001b[37m\u001b[0m \u001b[1m2s\u001b[0m 56ms/step - loss: 0.1639 - sparse_categorical_accuracy: 0.9422 - val_loss: 0.7109 - val_sparse_categorical_accuracy: 0.8427\n",
      "Epoch 31/100\n",
      "\u001b[1m28/28\u001b[0m \u001b[32m━━━━━━━━━━━━━━━━━━━━\u001b[0m\u001b[37m\u001b[0m \u001b[1m1s\u001b[0m 51ms/step - loss: 0.1103 - sparse_categorical_accuracy: 0.9586 - val_loss: 0.7095 - val_sparse_categorical_accuracy: 0.8507\n",
      "Epoch 32/100\n",
      "\u001b[1m28/28\u001b[0m \u001b[32m━━━━━━━━━━━━━━━━━━━━\u001b[0m\u001b[37m\u001b[0m \u001b[1m2s\u001b[0m 53ms/step - loss: 0.0908 - sparse_categorical_accuracy: 0.9697 - val_loss: 0.6083 - val_sparse_categorical_accuracy: 0.8667\n",
      "Epoch 33/100\n",
      "\u001b[1m28/28\u001b[0m \u001b[32m━━━━━━━━━━━━━━━━━━━━\u001b[0m\u001b[37m\u001b[0m \u001b[1m2s\u001b[0m 54ms/step - loss: 0.0966 - sparse_categorical_accuracy: 0.9629 - val_loss: 0.5513 - val_sparse_categorical_accuracy: 0.8880\n",
      "Epoch 34/100\n",
      "\u001b[1m28/28\u001b[0m \u001b[32m━━━━━━━━━━━━━━━━━━━━\u001b[0m\u001b[37m\u001b[0m \u001b[1m1s\u001b[0m 51ms/step - loss: 0.0537 - sparse_categorical_accuracy: 0.9886 - val_loss: 0.5555 - val_sparse_categorical_accuracy: 0.8773\n",
      "Epoch 35/100\n",
      "\u001b[1m28/28\u001b[0m \u001b[32m━━━━━━━━━━━━━━━━━━━━\u001b[0m\u001b[37m\u001b[0m \u001b[1m3s\u001b[0m 53ms/step - loss: 0.0545 - sparse_categorical_accuracy: 0.9837 - val_loss: 0.5727 - val_sparse_categorical_accuracy: 0.8773\n",
      "Epoch 36/100\n",
      "\u001b[1m28/28\u001b[0m \u001b[32m━━━━━━━━━━━━━━━━━━━━\u001b[0m\u001b[37m\u001b[0m \u001b[1m2s\u001b[0m 54ms/step - loss: 0.0466 - sparse_categorical_accuracy: 0.9858 - val_loss: 0.5093 - val_sparse_categorical_accuracy: 0.8907\n",
      "Epoch 37/100\n",
      "\u001b[1m28/28\u001b[0m \u001b[32m━━━━━━━━━━━━━━━━━━━━\u001b[0m\u001b[37m\u001b[0m \u001b[1m2s\u001b[0m 54ms/step - loss: 0.0450 - sparse_categorical_accuracy: 0.9900 - val_loss: 0.5420 - val_sparse_categorical_accuracy: 0.8827\n",
      "Epoch 38/100\n",
      "\u001b[1m28/28\u001b[0m \u001b[32m━━━━━━━━━━━━━━━━━━━━\u001b[0m\u001b[37m\u001b[0m \u001b[1m2s\u001b[0m 54ms/step - loss: 0.0503 - sparse_categorical_accuracy: 0.9804 - val_loss: 0.5350 - val_sparse_categorical_accuracy: 0.8880\n",
      "Epoch 39/100\n",
      "\u001b[1m28/28\u001b[0m \u001b[32m━━━━━━━━━━━━━━━━━━━━\u001b[0m\u001b[37m\u001b[0m \u001b[1m2s\u001b[0m 54ms/step - loss: 0.0803 - sparse_categorical_accuracy: 0.9671 - val_loss: 0.5037 - val_sparse_categorical_accuracy: 0.8773\n",
      "Epoch 40/100\n",
      "\u001b[1m28/28\u001b[0m \u001b[32m━━━━━━━━━━━━━━━━━━━━\u001b[0m\u001b[37m\u001b[0m \u001b[1m1s\u001b[0m 52ms/step - loss: 0.0572 - sparse_categorical_accuracy: 0.9834 - val_loss: 0.4794 - val_sparse_categorical_accuracy: 0.8960\n",
      "Epoch 41/100\n",
      "\u001b[1m28/28\u001b[0m \u001b[32m━━━━━━━━━━━━━━━━━━━━\u001b[0m\u001b[37m\u001b[0m \u001b[1m2s\u001b[0m 59ms/step - loss: 0.0369 - sparse_categorical_accuracy: 0.9894 - val_loss: 0.4170 - val_sparse_categorical_accuracy: 0.8960\n",
      "Epoch 42/100\n",
      "\u001b[1m28/28\u001b[0m \u001b[32m━━━━━━━━━━━━━━━━━━━━\u001b[0m\u001b[37m\u001b[0m \u001b[1m1s\u001b[0m 51ms/step - loss: 0.0380 - sparse_categorical_accuracy: 0.9911 - val_loss: 0.4854 - val_sparse_categorical_accuracy: 0.9013\n",
      "Epoch 43/100\n",
      "\u001b[1m28/28\u001b[0m \u001b[32m━━━━━━━━━━━━━━━━━━━━\u001b[0m\u001b[37m\u001b[0m \u001b[1m1s\u001b[0m 51ms/step - loss: 0.0623 - sparse_categorical_accuracy: 0.9780 - val_loss: 0.4875 - val_sparse_categorical_accuracy: 0.9013\n",
      "Epoch 44/100\n",
      "\u001b[1m28/28\u001b[0m \u001b[32m━━━━━━━━━━━━━━━━━━━━\u001b[0m\u001b[37m\u001b[0m \u001b[1m1s\u001b[0m 51ms/step - loss: 0.0716 - sparse_categorical_accuracy: 0.9727 - val_loss: 0.6574 - val_sparse_categorical_accuracy: 0.8827\n",
      "Epoch 45/100\n",
      "\u001b[1m28/28\u001b[0m \u001b[32m━━━━━━━━━━━━━━━━━━━━\u001b[0m\u001b[37m\u001b[0m \u001b[1m1s\u001b[0m 52ms/step - loss: 0.0534 - sparse_categorical_accuracy: 0.9802 - val_loss: 0.6844 - val_sparse_categorical_accuracy: 0.8773\n",
      "Epoch 46/100\n",
      "\u001b[1m28/28\u001b[0m \u001b[32m━━━━━━━━━━━━━━━━━━━━\u001b[0m\u001b[37m\u001b[0m \u001b[1m1s\u001b[0m 53ms/step - loss: 0.0824 - sparse_categorical_accuracy: 0.9777 - val_loss: 0.5615 - val_sparse_categorical_accuracy: 0.9040\n",
      "Epoch 47/100\n",
      "\u001b[1m28/28\u001b[0m \u001b[32m━━━━━━━━━━━━━━━━━━━━\u001b[0m\u001b[37m\u001b[0m \u001b[1m1s\u001b[0m 51ms/step - loss: 0.0475 - sparse_categorical_accuracy: 0.9896 - val_loss: 0.6374 - val_sparse_categorical_accuracy: 0.8720\n",
      "Epoch 48/100\n",
      "\u001b[1m28/28\u001b[0m \u001b[32m━━━━━━━━━━━━━━━━━━━━\u001b[0m\u001b[37m\u001b[0m \u001b[1m1s\u001b[0m 52ms/step - loss: 0.0642 - sparse_categorical_accuracy: 0.9802 - val_loss: 0.6876 - val_sparse_categorical_accuracy: 0.8640\n",
      "Epoch 49/100\n",
      "\u001b[1m28/28\u001b[0m \u001b[32m━━━━━━━━━━━━━━━━━━━━\u001b[0m\u001b[37m\u001b[0m \u001b[1m2s\u001b[0m 54ms/step - loss: 0.0791 - sparse_categorical_accuracy: 0.9718 - val_loss: 0.9253 - val_sparse_categorical_accuracy: 0.8187\n",
      "Epoch 50/100\n",
      "\u001b[1m28/28\u001b[0m \u001b[32m━━━━━━━━━━━━━━━━━━━━\u001b[0m\u001b[37m\u001b[0m \u001b[1m2s\u001b[0m 56ms/step - loss: 0.1016 - sparse_categorical_accuracy: 0.9658 - val_loss: 1.0248 - val_sparse_categorical_accuracy: 0.7867\n",
      "Epoch 51/100\n",
      "\u001b[1m28/28\u001b[0m \u001b[32m━━━━━━━━━━━━━━━━━━━━\u001b[0m\u001b[37m\u001b[0m \u001b[1m3s\u001b[0m 53ms/step - loss: 0.0927 - sparse_categorical_accuracy: 0.9662 - val_loss: 0.6861 - val_sparse_categorical_accuracy: 0.8640\n",
      "Epoch 52/100\n",
      "\u001b[1m28/28\u001b[0m \u001b[32m━━━━━━━━━━━━━━━━━━━━\u001b[0m\u001b[37m\u001b[0m \u001b[1m1s\u001b[0m 50ms/step - loss: 0.0764 - sparse_categorical_accuracy: 0.9649 - val_loss: 0.7007 - val_sparse_categorical_accuracy: 0.8880\n",
      "Epoch 53/100\n",
      "\u001b[1m28/28\u001b[0m \u001b[32m━━━━━━━━━━━━━━━━━━━━\u001b[0m\u001b[37m\u001b[0m \u001b[1m2s\u001b[0m 53ms/step - loss: 0.0685 - sparse_categorical_accuracy: 0.9784 - val_loss: 0.6140 - val_sparse_categorical_accuracy: 0.8880\n",
      "Epoch 54/100\n",
      "\u001b[1m28/28\u001b[0m \u001b[32m━━━━━━━━━━━━━━━━━━━━\u001b[0m\u001b[37m\u001b[0m \u001b[1m3s\u001b[0m 53ms/step - loss: 0.0592 - sparse_categorical_accuracy: 0.9864 - val_loss: 0.6744 - val_sparse_categorical_accuracy: 0.8933\n",
      "Epoch 55/100\n",
      "\u001b[1m28/28\u001b[0m \u001b[32m━━━━━━━━━━━━━━━━━━━━\u001b[0m\u001b[37m\u001b[0m \u001b[1m1s\u001b[0m 52ms/step - loss: 0.0487 - sparse_categorical_accuracy: 0.9861 - val_loss: 0.5819 - val_sparse_categorical_accuracy: 0.9040\n",
      "Epoch 56/100\n",
      "\u001b[1m28/28\u001b[0m \u001b[32m━━━━━━━━━━━━━━━━━━━━\u001b[0m\u001b[37m\u001b[0m \u001b[1m3s\u001b[0m 52ms/step - loss: 0.0556 - sparse_categorical_accuracy: 0.9784 - val_loss: 0.6886 - val_sparse_categorical_accuracy: 0.8853\n",
      "Epoch 57/100\n",
      "\u001b[1m28/28\u001b[0m \u001b[32m━━━━━━━━━━━━━━━━━━━━\u001b[0m\u001b[37m\u001b[0m \u001b[1m1s\u001b[0m 52ms/step - loss: 0.0429 - sparse_categorical_accuracy: 0.9886 - val_loss: 0.6231 - val_sparse_categorical_accuracy: 0.8853\n",
      "Epoch 58/100\n",
      "\u001b[1m28/28\u001b[0m \u001b[32m━━━━━━━━━━━━━━━━━━━━\u001b[0m\u001b[37m\u001b[0m \u001b[1m1s\u001b[0m 52ms/step - loss: 0.0789 - sparse_categorical_accuracy: 0.9750 - val_loss: 0.6864 - val_sparse_categorical_accuracy: 0.8613\n",
      "Epoch 59/100\n",
      "\u001b[1m28/28\u001b[0m \u001b[32m━━━━━━━━━━━━━━━━━━━━\u001b[0m\u001b[37m\u001b[0m \u001b[1m1s\u001b[0m 52ms/step - loss: 0.0604 - sparse_categorical_accuracy: 0.9809 - val_loss: 0.5389 - val_sparse_categorical_accuracy: 0.8933\n",
      "Epoch 60/100\n",
      "\u001b[1m28/28\u001b[0m \u001b[32m━━━━━━━━━━━━━━━━━━━━\u001b[0m\u001b[37m\u001b[0m \u001b[1m2s\u001b[0m 58ms/step - loss: 0.0719 - sparse_categorical_accuracy: 0.9797 - val_loss: 0.5849 - val_sparse_categorical_accuracy: 0.9040\n",
      "Epoch 61/100\n",
      "\u001b[1m28/28\u001b[0m \u001b[32m━━━━━━━━━━━━━━━━━━━━\u001b[0m\u001b[37m\u001b[0m \u001b[1m2s\u001b[0m 57ms/step - loss: 0.0430 - sparse_categorical_accuracy: 0.9817 - val_loss: 0.6066 - val_sparse_categorical_accuracy: 0.8853\n",
      "Epoch 62/100\n",
      "\u001b[1m28/28\u001b[0m \u001b[32m━━━━━━━━━━━━━━━━━━━━\u001b[0m\u001b[37m\u001b[0m \u001b[1m2s\u001b[0m 58ms/step - loss: 0.0752 - sparse_categorical_accuracy: 0.9757 - val_loss: 0.5211 - val_sparse_categorical_accuracy: 0.8800\n",
      "Epoch 63/100\n",
      "\u001b[1m28/28\u001b[0m \u001b[32m━━━━━━━━━━━━━━━━━━━━\u001b[0m\u001b[37m\u001b[0m \u001b[1m2s\u001b[0m 58ms/step - loss: 0.0632 - sparse_categorical_accuracy: 0.9794 - val_loss: 0.4820 - val_sparse_categorical_accuracy: 0.9120\n",
      "Epoch 64/100\n",
      "\u001b[1m28/28\u001b[0m \u001b[32m━━━━━━━━━━━━━━━━━━━━\u001b[0m\u001b[37m\u001b[0m \u001b[1m2s\u001b[0m 56ms/step - loss: 0.0569 - sparse_categorical_accuracy: 0.9863 - val_loss: 0.5369 - val_sparse_categorical_accuracy: 0.9173\n",
      "Epoch 65/100\n",
      "\u001b[1m28/28\u001b[0m \u001b[32m━━━━━━━━━━━━━━━━━━━━\u001b[0m\u001b[37m\u001b[0m \u001b[1m2s\u001b[0m 59ms/step - loss: 0.0471 - sparse_categorical_accuracy: 0.9825 - val_loss: 0.6136 - val_sparse_categorical_accuracy: 0.9040\n",
      "Epoch 66/100\n",
      "\u001b[1m28/28\u001b[0m \u001b[32m━━━━━━━━━━━━━━━━━━━━\u001b[0m\u001b[37m\u001b[0m \u001b[1m2s\u001b[0m 56ms/step - loss: 0.0533 - sparse_categorical_accuracy: 0.9790 - val_loss: 0.5618 - val_sparse_categorical_accuracy: 0.9040\n",
      "Epoch 67/100\n",
      "\u001b[1m28/28\u001b[0m \u001b[32m━━━━━━━━━━━━━━━━━━━━\u001b[0m\u001b[37m\u001b[0m \u001b[1m3s\u001b[0m 52ms/step - loss: 0.0452 - sparse_categorical_accuracy: 0.9860 - val_loss: 0.6947 - val_sparse_categorical_accuracy: 0.8880\n",
      "Epoch 68/100\n",
      "\u001b[1m28/28\u001b[0m \u001b[32m━━━━━━━━━━━━━━━━━━━━\u001b[0m\u001b[37m\u001b[0m \u001b[1m1s\u001b[0m 52ms/step - loss: 0.0408 - sparse_categorical_accuracy: 0.9899 - val_loss: 0.5618 - val_sparse_categorical_accuracy: 0.8853\n",
      "Epoch 69/100\n",
      "\u001b[1m28/28\u001b[0m \u001b[32m━━━━━━━━━━━━━━━━━━━━\u001b[0m\u001b[37m\u001b[0m \u001b[1m2s\u001b[0m 54ms/step - loss: 0.0729 - sparse_categorical_accuracy: 0.9669 - val_loss: 1.0829 - val_sparse_categorical_accuracy: 0.8027\n",
      "Epoch 70/100\n",
      "\u001b[1m28/28\u001b[0m \u001b[32m━━━━━━━━━━━━━━━━━━━━\u001b[0m\u001b[37m\u001b[0m \u001b[1m3s\u001b[0m 53ms/step - loss: 0.1371 - sparse_categorical_accuracy: 0.9631 - val_loss: 4.6037 - val_sparse_categorical_accuracy: 0.3493\n",
      "Epoch 71/100\n",
      "\u001b[1m28/28\u001b[0m \u001b[32m━━━━━━━━━━━━━━━━━━━━\u001b[0m\u001b[37m\u001b[0m \u001b[1m2s\u001b[0m 57ms/step - loss: 0.1282 - sparse_categorical_accuracy: 0.9620 - val_loss: 1.7546 - val_sparse_categorical_accuracy: 0.7253\n",
      "Epoch 72/100\n",
      "\u001b[1m28/28\u001b[0m \u001b[32m━━━━━━━━━━━━━━━━━━━━\u001b[0m\u001b[37m\u001b[0m \u001b[1m1s\u001b[0m 51ms/step - loss: 0.1035 - sparse_categorical_accuracy: 0.9653 - val_loss: 1.7838 - val_sparse_categorical_accuracy: 0.6667\n",
      "Epoch 73/100\n",
      "\u001b[1m28/28\u001b[0m \u001b[32m━━━━━━━━━━━━━━━━━━━━\u001b[0m\u001b[37m\u001b[0m \u001b[1m2s\u001b[0m 54ms/step - loss: 0.0945 - sparse_categorical_accuracy: 0.9696 - val_loss: 2.9453 - val_sparse_categorical_accuracy: 0.5600\n",
      "Epoch 74/100\n",
      "\u001b[1m28/28\u001b[0m \u001b[32m━━━━━━━━━━━━━━━━━━━━\u001b[0m\u001b[37m\u001b[0m \u001b[1m2s\u001b[0m 55ms/step - loss: 0.0924 - sparse_categorical_accuracy: 0.9741 - val_loss: 1.6679 - val_sparse_categorical_accuracy: 0.6987\n",
      "Epoch 75/100\n",
      "\u001b[1m28/28\u001b[0m \u001b[32m━━━━━━━━━━━━━━━━━━━━\u001b[0m\u001b[37m\u001b[0m \u001b[1m2s\u001b[0m 57ms/step - loss: 0.0560 - sparse_categorical_accuracy: 0.9855 - val_loss: 0.6063 - val_sparse_categorical_accuracy: 0.8933\n",
      "Epoch 76/100\n",
      "\u001b[1m28/28\u001b[0m \u001b[32m━━━━━━━━━━━━━━━━━━━━\u001b[0m\u001b[37m\u001b[0m \u001b[1m2s\u001b[0m 60ms/step - loss: 0.0825 - sparse_categorical_accuracy: 0.9720 - val_loss: 0.5811 - val_sparse_categorical_accuracy: 0.8907\n",
      "Epoch 77/100\n",
      "\u001b[1m28/28\u001b[0m \u001b[32m━━━━━━━━━━━━━━━━━━━━\u001b[0m\u001b[37m\u001b[0m \u001b[1m2s\u001b[0m 57ms/step - loss: 0.0651 - sparse_categorical_accuracy: 0.9773 - val_loss: 0.9554 - val_sparse_categorical_accuracy: 0.8560\n",
      "Epoch 78/100\n",
      "\u001b[1m28/28\u001b[0m \u001b[32m━━━━━━━━━━━━━━━━━━━━\u001b[0m\u001b[37m\u001b[0m \u001b[1m2s\u001b[0m 56ms/step - loss: 0.0586 - sparse_categorical_accuracy: 0.9790 - val_loss: 0.7306 - val_sparse_categorical_accuracy: 0.8880\n",
      "Epoch 79/100\n",
      "\u001b[1m28/28\u001b[0m \u001b[32m━━━━━━━━━━━━━━━━━━━━\u001b[0m\u001b[37m\u001b[0m \u001b[1m2s\u001b[0m 56ms/step - loss: 0.0622 - sparse_categorical_accuracy: 0.9785 - val_loss: 0.5581 - val_sparse_categorical_accuracy: 0.8987\n",
      "Epoch 80/100\n",
      "\u001b[1m28/28\u001b[0m \u001b[32m━━━━━━━━━━━━━━━━━━━━\u001b[0m\u001b[37m\u001b[0m \u001b[1m2s\u001b[0m 57ms/step - loss: 0.0582 - sparse_categorical_accuracy: 0.9796 - val_loss: 0.5636 - val_sparse_categorical_accuracy: 0.9013\n",
      "Epoch 81/100\n",
      "\u001b[1m28/28\u001b[0m \u001b[32m━━━━━━━━━━━━━━━━━━━━\u001b[0m\u001b[37m\u001b[0m \u001b[1m2s\u001b[0m 59ms/step - loss: 0.0644 - sparse_categorical_accuracy: 0.9799 - val_loss: 0.4641 - val_sparse_categorical_accuracy: 0.9120\n",
      "Epoch 82/100\n",
      "\u001b[1m28/28\u001b[0m \u001b[32m━━━━━━━━━━━━━━━━━━━━\u001b[0m\u001b[37m\u001b[0m \u001b[1m2s\u001b[0m 57ms/step - loss: 0.0605 - sparse_categorical_accuracy: 0.9766 - val_loss: 0.4907 - val_sparse_categorical_accuracy: 0.8960\n",
      "Epoch 83/100\n",
      "\u001b[1m28/28\u001b[0m \u001b[32m━━━━━━━━━━━━━━━━━━━━\u001b[0m\u001b[37m\u001b[0m \u001b[1m2s\u001b[0m 58ms/step - loss: 0.0708 - sparse_categorical_accuracy: 0.9803 - val_loss: 0.5548 - val_sparse_categorical_accuracy: 0.9040\n",
      "Epoch 84/100\n",
      "\u001b[1m28/28\u001b[0m \u001b[32m━━━━━━━━━━━━━━━━━━━━\u001b[0m\u001b[37m\u001b[0m \u001b[1m2s\u001b[0m 57ms/step - loss: 0.0201 - sparse_categorical_accuracy: 0.9941 - val_loss: 0.5671 - val_sparse_categorical_accuracy: 0.9013\n",
      "Epoch 85/100\n",
      "\u001b[1m28/28\u001b[0m \u001b[32m━━━━━━━━━━━━━━━━━━━━\u001b[0m\u001b[37m\u001b[0m \u001b[1m2s\u001b[0m 59ms/step - loss: 0.0537 - sparse_categorical_accuracy: 0.9745 - val_loss: 0.4752 - val_sparse_categorical_accuracy: 0.9067\n",
      "Epoch 86/100\n",
      "\u001b[1m28/28\u001b[0m \u001b[32m━━━━━━━━━━━━━━━━━━━━\u001b[0m\u001b[37m\u001b[0m \u001b[1m2s\u001b[0m 57ms/step - loss: 0.0479 - sparse_categorical_accuracy: 0.9855 - val_loss: 0.4864 - val_sparse_categorical_accuracy: 0.9093\n",
      "Epoch 87/100\n",
      "\u001b[1m28/28\u001b[0m \u001b[32m━━━━━━━━━━━━━━━━━━━━\u001b[0m\u001b[37m\u001b[0m \u001b[1m3s\u001b[0m 53ms/step - loss: 0.0704 - sparse_categorical_accuracy: 0.9766 - val_loss: 0.5117 - val_sparse_categorical_accuracy: 0.9093\n",
      "Epoch 88/100\n",
      "\u001b[1m28/28\u001b[0m \u001b[32m━━━━━━━━━━━━━━━━━━━━\u001b[0m\u001b[37m\u001b[0m \u001b[1m2s\u001b[0m 54ms/step - loss: 0.0735 - sparse_categorical_accuracy: 0.9801 - val_loss: 0.5642 - val_sparse_categorical_accuracy: 0.9147\n",
      "Epoch 89/100\n",
      "\u001b[1m28/28\u001b[0m \u001b[32m━━━━━━━━━━━━━━━━━━━━\u001b[0m\u001b[37m\u001b[0m \u001b[1m3s\u001b[0m 51ms/step - loss: 0.0290 - sparse_categorical_accuracy: 0.9883 - val_loss: 0.6074 - val_sparse_categorical_accuracy: 0.8987\n",
      "Epoch 90/100\n",
      "\u001b[1m28/28\u001b[0m \u001b[32m━━━━━━━━━━━━━━━━━━━━\u001b[0m\u001b[37m\u001b[0m \u001b[1m1s\u001b[0m 51ms/step - loss: 0.0371 - sparse_categorical_accuracy: 0.9865 - val_loss: 0.5726 - val_sparse_categorical_accuracy: 0.9067\n",
      "Epoch 91/100\n",
      "\u001b[1m28/28\u001b[0m \u001b[32m━━━━━━━━━━━━━━━━━━━━\u001b[0m\u001b[37m\u001b[0m \u001b[1m1s\u001b[0m 51ms/step - loss: 0.0706 - sparse_categorical_accuracy: 0.9729 - val_loss: 0.7559 - val_sparse_categorical_accuracy: 0.8640\n",
      "Epoch 92/100\n",
      "\u001b[1m28/28\u001b[0m \u001b[32m━━━━━━━━━━━━━━━━━━━━\u001b[0m\u001b[37m\u001b[0m \u001b[1m2s\u001b[0m 54ms/step - loss: 0.0535 - sparse_categorical_accuracy: 0.9806 - val_loss: 0.6364 - val_sparse_categorical_accuracy: 0.9013\n",
      "Epoch 93/100\n",
      "\u001b[1m28/28\u001b[0m \u001b[32m━━━━━━━━━━━━━━━━━━━━\u001b[0m\u001b[37m\u001b[0m \u001b[1m2s\u001b[0m 56ms/step - loss: 0.0310 - sparse_categorical_accuracy: 0.9928 - val_loss: 0.5967 - val_sparse_categorical_accuracy: 0.8987\n",
      "Epoch 94/100\n",
      "\u001b[1m28/28\u001b[0m \u001b[32m━━━━━━━━━━━━━━━━━━━━\u001b[0m\u001b[37m\u001b[0m \u001b[1m2s\u001b[0m 59ms/step - loss: 0.0391 - sparse_categorical_accuracy: 0.9787 - val_loss: 0.5212 - val_sparse_categorical_accuracy: 0.9040\n",
      "Epoch 95/100\n",
      "\u001b[1m28/28\u001b[0m \u001b[32m━━━━━━━━━━━━━━━━━━━━\u001b[0m\u001b[37m\u001b[0m \u001b[1m2s\u001b[0m 58ms/step - loss: 0.0454 - sparse_categorical_accuracy: 0.9817 - val_loss: 0.6219 - val_sparse_categorical_accuracy: 0.8880\n",
      "Epoch 96/100\n",
      "\u001b[1m28/28\u001b[0m \u001b[32m━━━━━━━━━━━━━━━━━━━━\u001b[0m\u001b[37m\u001b[0m \u001b[1m2s\u001b[0m 59ms/step - loss: 0.0419 - sparse_categorical_accuracy: 0.9885 - val_loss: 0.5613 - val_sparse_categorical_accuracy: 0.9040\n",
      "Epoch 97/100\n",
      "\u001b[1m28/28\u001b[0m \u001b[32m━━━━━━━━━━━━━━━━━━━━\u001b[0m\u001b[37m\u001b[0m \u001b[1m2s\u001b[0m 60ms/step - loss: 0.0285 - sparse_categorical_accuracy: 0.9848 - val_loss: 0.5992 - val_sparse_categorical_accuracy: 0.8747\n",
      "Epoch 98/100\n",
      "\u001b[1m28/28\u001b[0m \u001b[32m━━━━━━━━━━━━━━━━━━━━\u001b[0m\u001b[37m\u001b[0m \u001b[1m2s\u001b[0m 58ms/step - loss: 0.0544 - sparse_categorical_accuracy: 0.9779 - val_loss: 0.7462 - val_sparse_categorical_accuracy: 0.8773\n",
      "Epoch 99/100\n",
      "\u001b[1m28/28\u001b[0m \u001b[32m━━━━━━━━━━━━━━━━━━━━\u001b[0m\u001b[37m\u001b[0m \u001b[1m2s\u001b[0m 57ms/step - loss: 0.0313 - sparse_categorical_accuracy: 0.9903 - val_loss: 0.4849 - val_sparse_categorical_accuracy: 0.9093\n",
      "Epoch 100/100\n",
      "\u001b[1m28/28\u001b[0m \u001b[32m━━━━━━━━━━━━━━━━━━━━\u001b[0m\u001b[37m\u001b[0m \u001b[1m2s\u001b[0m 56ms/step - loss: 0.0504 - sparse_categorical_accuracy: 0.9811 - val_loss: 0.6056 - val_sparse_categorical_accuracy: 0.8800\n"
     ]
    }
   ],
   "source": [
    "history = model.fit(x=X_train,\n",
    "                    y=y_train,\n",
    "                    epochs=100,\n",
    "                    validation_split=0.3,\n",
    "                    # callbacks=[es1, es2, save_callback]\n",
    "                    )"
   ]
  },
  {
   "cell_type": "code",
   "execution_count": 95,
   "id": "1d858f86",
   "metadata": {
    "execution": {
     "iopub.execute_input": "2022-10-14T02:04:30.456590Z",
     "iopub.status.busy": "2022-10-14T02:04:30.456119Z",
     "iopub.status.idle": "2022-10-14T02:04:30.464372Z",
     "shell.execute_reply": "2022-10-14T02:04:30.463186Z"
    },
    "papermill": {
     "duration": 0.140692,
     "end_time": "2022-10-14T02:04:30.467023",
     "exception": false,
     "start_time": "2022-10-14T02:04:30.326331",
     "status": "completed"
    },
    "tags": []
   },
   "outputs": [
    {
     "data": {
      "text/html": [
       "<pre style=\"white-space:pre;overflow-x:auto;line-height:normal;font-family:Menlo,'DejaVu Sans Mono',consolas,'Courier New',monospace\"><span style=\"font-weight: bold\">Model: \"sequential_4\"</span>\n",
       "</pre>\n"
      ],
      "text/plain": [
       "\u001b[1mModel: \"sequential_4\"\u001b[0m\n"
      ]
     },
     "metadata": {},
     "output_type": "display_data"
    },
    {
     "data": {
      "text/html": [
       "<pre style=\"white-space:pre;overflow-x:auto;line-height:normal;font-family:Menlo,'DejaVu Sans Mono',consolas,'Courier New',monospace\">┏━━━━━━━━━━━━━━━━━━━━━━━━━━━━━━━━━┳━━━━━━━━━━━━━━━━━━━━━━━━┳━━━━━━━━━━━━━━━┓\n",
       "┃<span style=\"font-weight: bold\"> Layer (type)                    </span>┃<span style=\"font-weight: bold\"> Output Shape           </span>┃<span style=\"font-weight: bold\">       Param # </span>┃\n",
       "┡━━━━━━━━━━━━━━━━━━━━━━━━━━━━━━━━━╇━━━━━━━━━━━━━━━━━━━━━━━━╇━━━━━━━━━━━━━━━┩\n",
       "│ conv2d_12 (<span style=\"color: #0087ff; text-decoration-color: #0087ff\">Conv2D</span>)              │ (<span style=\"color: #00d7ff; text-decoration-color: #00d7ff\">None</span>, <span style=\"color: #00af00; text-decoration-color: #00af00\">28</span>, <span style=\"color: #00af00; text-decoration-color: #00af00\">28</span>, <span style=\"color: #00af00; text-decoration-color: #00af00\">64</span>)     │         <span style=\"color: #00af00; text-decoration-color: #00af00\">1,792</span> │\n",
       "├─────────────────────────────────┼────────────────────────┼───────────────┤\n",
       "│ max_pooling2d_12 (<span style=\"color: #0087ff; text-decoration-color: #0087ff\">MaxPooling2D</span>) │ (<span style=\"color: #00d7ff; text-decoration-color: #00d7ff\">None</span>, <span style=\"color: #00af00; text-decoration-color: #00af00\">14</span>, <span style=\"color: #00af00; text-decoration-color: #00af00\">14</span>, <span style=\"color: #00af00; text-decoration-color: #00af00\">64</span>)     │             <span style=\"color: #00af00; text-decoration-color: #00af00\">0</span> │\n",
       "├─────────────────────────────────┼────────────────────────┼───────────────┤\n",
       "│ batch_normalization_16          │ (<span style=\"color: #00d7ff; text-decoration-color: #00d7ff\">None</span>, <span style=\"color: #00af00; text-decoration-color: #00af00\">14</span>, <span style=\"color: #00af00; text-decoration-color: #00af00\">14</span>, <span style=\"color: #00af00; text-decoration-color: #00af00\">64</span>)     │           <span style=\"color: #00af00; text-decoration-color: #00af00\">256</span> │\n",
       "│ (<span style=\"color: #0087ff; text-decoration-color: #0087ff\">BatchNormalization</span>)            │                        │               │\n",
       "├─────────────────────────────────┼────────────────────────┼───────────────┤\n",
       "│ conv2d_13 (<span style=\"color: #0087ff; text-decoration-color: #0087ff\">Conv2D</span>)              │ (<span style=\"color: #00d7ff; text-decoration-color: #00d7ff\">None</span>, <span style=\"color: #00af00; text-decoration-color: #00af00\">14</span>, <span style=\"color: #00af00; text-decoration-color: #00af00\">14</span>, <span style=\"color: #00af00; text-decoration-color: #00af00\">128</span>)    │        <span style=\"color: #00af00; text-decoration-color: #00af00\">73,856</span> │\n",
       "├─────────────────────────────────┼────────────────────────┼───────────────┤\n",
       "│ max_pooling2d_13 (<span style=\"color: #0087ff; text-decoration-color: #0087ff\">MaxPooling2D</span>) │ (<span style=\"color: #00d7ff; text-decoration-color: #00d7ff\">None</span>, <span style=\"color: #00af00; text-decoration-color: #00af00\">7</span>, <span style=\"color: #00af00; text-decoration-color: #00af00\">7</span>, <span style=\"color: #00af00; text-decoration-color: #00af00\">128</span>)      │             <span style=\"color: #00af00; text-decoration-color: #00af00\">0</span> │\n",
       "├─────────────────────────────────┼────────────────────────┼───────────────┤\n",
       "│ dropout_12 (<span style=\"color: #0087ff; text-decoration-color: #0087ff\">Dropout</span>)            │ (<span style=\"color: #00d7ff; text-decoration-color: #00d7ff\">None</span>, <span style=\"color: #00af00; text-decoration-color: #00af00\">7</span>, <span style=\"color: #00af00; text-decoration-color: #00af00\">7</span>, <span style=\"color: #00af00; text-decoration-color: #00af00\">128</span>)      │             <span style=\"color: #00af00; text-decoration-color: #00af00\">0</span> │\n",
       "├─────────────────────────────────┼────────────────────────┼───────────────┤\n",
       "│ batch_normalization_17          │ (<span style=\"color: #00d7ff; text-decoration-color: #00d7ff\">None</span>, <span style=\"color: #00af00; text-decoration-color: #00af00\">7</span>, <span style=\"color: #00af00; text-decoration-color: #00af00\">7</span>, <span style=\"color: #00af00; text-decoration-color: #00af00\">128</span>)      │           <span style=\"color: #00af00; text-decoration-color: #00af00\">512</span> │\n",
       "│ (<span style=\"color: #0087ff; text-decoration-color: #0087ff\">BatchNormalization</span>)            │                        │               │\n",
       "├─────────────────────────────────┼────────────────────────┼───────────────┤\n",
       "│ conv2d_14 (<span style=\"color: #0087ff; text-decoration-color: #0087ff\">Conv2D</span>)              │ (<span style=\"color: #00d7ff; text-decoration-color: #00d7ff\">None</span>, <span style=\"color: #00af00; text-decoration-color: #00af00\">7</span>, <span style=\"color: #00af00; text-decoration-color: #00af00\">7</span>, <span style=\"color: #00af00; text-decoration-color: #00af00\">256</span>)      │       <span style=\"color: #00af00; text-decoration-color: #00af00\">295,168</span> │\n",
       "├─────────────────────────────────┼────────────────────────┼───────────────┤\n",
       "│ max_pooling2d_14 (<span style=\"color: #0087ff; text-decoration-color: #0087ff\">MaxPooling2D</span>) │ (<span style=\"color: #00d7ff; text-decoration-color: #00d7ff\">None</span>, <span style=\"color: #00af00; text-decoration-color: #00af00\">3</span>, <span style=\"color: #00af00; text-decoration-color: #00af00\">3</span>, <span style=\"color: #00af00; text-decoration-color: #00af00\">256</span>)      │             <span style=\"color: #00af00; text-decoration-color: #00af00\">0</span> │\n",
       "├─────────────────────────────────┼────────────────────────┼───────────────┤\n",
       "│ dropout_13 (<span style=\"color: #0087ff; text-decoration-color: #0087ff\">Dropout</span>)            │ (<span style=\"color: #00d7ff; text-decoration-color: #00d7ff\">None</span>, <span style=\"color: #00af00; text-decoration-color: #00af00\">3</span>, <span style=\"color: #00af00; text-decoration-color: #00af00\">3</span>, <span style=\"color: #00af00; text-decoration-color: #00af00\">256</span>)      │             <span style=\"color: #00af00; text-decoration-color: #00af00\">0</span> │\n",
       "├─────────────────────────────────┼────────────────────────┼───────────────┤\n",
       "│ batch_normalization_18          │ (<span style=\"color: #00d7ff; text-decoration-color: #00d7ff\">None</span>, <span style=\"color: #00af00; text-decoration-color: #00af00\">3</span>, <span style=\"color: #00af00; text-decoration-color: #00af00\">3</span>, <span style=\"color: #00af00; text-decoration-color: #00af00\">256</span>)      │         <span style=\"color: #00af00; text-decoration-color: #00af00\">1,024</span> │\n",
       "│ (<span style=\"color: #0087ff; text-decoration-color: #0087ff\">BatchNormalization</span>)            │                        │               │\n",
       "├─────────────────────────────────┼────────────────────────┼───────────────┤\n",
       "│ flatten_4 (<span style=\"color: #0087ff; text-decoration-color: #0087ff\">Flatten</span>)             │ (<span style=\"color: #00d7ff; text-decoration-color: #00d7ff\">None</span>, <span style=\"color: #00af00; text-decoration-color: #00af00\">2304</span>)           │             <span style=\"color: #00af00; text-decoration-color: #00af00\">0</span> │\n",
       "├─────────────────────────────────┼────────────────────────┼───────────────┤\n",
       "│ dense_12 (<span style=\"color: #0087ff; text-decoration-color: #0087ff\">Dense</span>)                │ (<span style=\"color: #00d7ff; text-decoration-color: #00d7ff\">None</span>, <span style=\"color: #00af00; text-decoration-color: #00af00\">512</span>)            │     <span style=\"color: #00af00; text-decoration-color: #00af00\">1,180,160</span> │\n",
       "├─────────────────────────────────┼────────────────────────┼───────────────┤\n",
       "│ dropout_14 (<span style=\"color: #0087ff; text-decoration-color: #0087ff\">Dropout</span>)            │ (<span style=\"color: #00d7ff; text-decoration-color: #00d7ff\">None</span>, <span style=\"color: #00af00; text-decoration-color: #00af00\">512</span>)            │             <span style=\"color: #00af00; text-decoration-color: #00af00\">0</span> │\n",
       "├─────────────────────────────────┼────────────────────────┼───────────────┤\n",
       "│ batch_normalization_19          │ (<span style=\"color: #00d7ff; text-decoration-color: #00d7ff\">None</span>, <span style=\"color: #00af00; text-decoration-color: #00af00\">512</span>)            │         <span style=\"color: #00af00; text-decoration-color: #00af00\">2,048</span> │\n",
       "│ (<span style=\"color: #0087ff; text-decoration-color: #0087ff\">BatchNormalization</span>)            │                        │               │\n",
       "├─────────────────────────────────┼────────────────────────┼───────────────┤\n",
       "│ dense_13 (<span style=\"color: #0087ff; text-decoration-color: #0087ff\">Dense</span>)                │ (<span style=\"color: #00d7ff; text-decoration-color: #00d7ff\">None</span>, <span style=\"color: #00af00; text-decoration-color: #00af00\">288</span>)            │       <span style=\"color: #00af00; text-decoration-color: #00af00\">147,744</span> │\n",
       "├─────────────────────────────────┼────────────────────────┼───────────────┤\n",
       "│ dense_14 (<span style=\"color: #0087ff; text-decoration-color: #0087ff\">Dense</span>)                │ (<span style=\"color: #00d7ff; text-decoration-color: #00d7ff\">None</span>, <span style=\"color: #00af00; text-decoration-color: #00af00\">26</span>)             │         <span style=\"color: #00af00; text-decoration-color: #00af00\">7,514</span> │\n",
       "└─────────────────────────────────┴────────────────────────┴───────────────┘\n",
       "</pre>\n"
      ],
      "text/plain": [
       "┏━━━━━━━━━━━━━━━━━━━━━━━━━━━━━━━━━┳━━━━━━━━━━━━━━━━━━━━━━━━┳━━━━━━━━━━━━━━━┓\n",
       "┃\u001b[1m \u001b[0m\u001b[1mLayer (type)                   \u001b[0m\u001b[1m \u001b[0m┃\u001b[1m \u001b[0m\u001b[1mOutput Shape          \u001b[0m\u001b[1m \u001b[0m┃\u001b[1m \u001b[0m\u001b[1m      Param #\u001b[0m\u001b[1m \u001b[0m┃\n",
       "┡━━━━━━━━━━━━━━━━━━━━━━━━━━━━━━━━━╇━━━━━━━━━━━━━━━━━━━━━━━━╇━━━━━━━━━━━━━━━┩\n",
       "│ conv2d_12 (\u001b[38;5;33mConv2D\u001b[0m)              │ (\u001b[38;5;45mNone\u001b[0m, \u001b[38;5;34m28\u001b[0m, \u001b[38;5;34m28\u001b[0m, \u001b[38;5;34m64\u001b[0m)     │         \u001b[38;5;34m1,792\u001b[0m │\n",
       "├─────────────────────────────────┼────────────────────────┼───────────────┤\n",
       "│ max_pooling2d_12 (\u001b[38;5;33mMaxPooling2D\u001b[0m) │ (\u001b[38;5;45mNone\u001b[0m, \u001b[38;5;34m14\u001b[0m, \u001b[38;5;34m14\u001b[0m, \u001b[38;5;34m64\u001b[0m)     │             \u001b[38;5;34m0\u001b[0m │\n",
       "├─────────────────────────────────┼────────────────────────┼───────────────┤\n",
       "│ batch_normalization_16          │ (\u001b[38;5;45mNone\u001b[0m, \u001b[38;5;34m14\u001b[0m, \u001b[38;5;34m14\u001b[0m, \u001b[38;5;34m64\u001b[0m)     │           \u001b[38;5;34m256\u001b[0m │\n",
       "│ (\u001b[38;5;33mBatchNormalization\u001b[0m)            │                        │               │\n",
       "├─────────────────────────────────┼────────────────────────┼───────────────┤\n",
       "│ conv2d_13 (\u001b[38;5;33mConv2D\u001b[0m)              │ (\u001b[38;5;45mNone\u001b[0m, \u001b[38;5;34m14\u001b[0m, \u001b[38;5;34m14\u001b[0m, \u001b[38;5;34m128\u001b[0m)    │        \u001b[38;5;34m73,856\u001b[0m │\n",
       "├─────────────────────────────────┼────────────────────────┼───────────────┤\n",
       "│ max_pooling2d_13 (\u001b[38;5;33mMaxPooling2D\u001b[0m) │ (\u001b[38;5;45mNone\u001b[0m, \u001b[38;5;34m7\u001b[0m, \u001b[38;5;34m7\u001b[0m, \u001b[38;5;34m128\u001b[0m)      │             \u001b[38;5;34m0\u001b[0m │\n",
       "├─────────────────────────────────┼────────────────────────┼───────────────┤\n",
       "│ dropout_12 (\u001b[38;5;33mDropout\u001b[0m)            │ (\u001b[38;5;45mNone\u001b[0m, \u001b[38;5;34m7\u001b[0m, \u001b[38;5;34m7\u001b[0m, \u001b[38;5;34m128\u001b[0m)      │             \u001b[38;5;34m0\u001b[0m │\n",
       "├─────────────────────────────────┼────────────────────────┼───────────────┤\n",
       "│ batch_normalization_17          │ (\u001b[38;5;45mNone\u001b[0m, \u001b[38;5;34m7\u001b[0m, \u001b[38;5;34m7\u001b[0m, \u001b[38;5;34m128\u001b[0m)      │           \u001b[38;5;34m512\u001b[0m │\n",
       "│ (\u001b[38;5;33mBatchNormalization\u001b[0m)            │                        │               │\n",
       "├─────────────────────────────────┼────────────────────────┼───────────────┤\n",
       "│ conv2d_14 (\u001b[38;5;33mConv2D\u001b[0m)              │ (\u001b[38;5;45mNone\u001b[0m, \u001b[38;5;34m7\u001b[0m, \u001b[38;5;34m7\u001b[0m, \u001b[38;5;34m256\u001b[0m)      │       \u001b[38;5;34m295,168\u001b[0m │\n",
       "├─────────────────────────────────┼────────────────────────┼───────────────┤\n",
       "│ max_pooling2d_14 (\u001b[38;5;33mMaxPooling2D\u001b[0m) │ (\u001b[38;5;45mNone\u001b[0m, \u001b[38;5;34m3\u001b[0m, \u001b[38;5;34m3\u001b[0m, \u001b[38;5;34m256\u001b[0m)      │             \u001b[38;5;34m0\u001b[0m │\n",
       "├─────────────────────────────────┼────────────────────────┼───────────────┤\n",
       "│ dropout_13 (\u001b[38;5;33mDropout\u001b[0m)            │ (\u001b[38;5;45mNone\u001b[0m, \u001b[38;5;34m3\u001b[0m, \u001b[38;5;34m3\u001b[0m, \u001b[38;5;34m256\u001b[0m)      │             \u001b[38;5;34m0\u001b[0m │\n",
       "├─────────────────────────────────┼────────────────────────┼───────────────┤\n",
       "│ batch_normalization_18          │ (\u001b[38;5;45mNone\u001b[0m, \u001b[38;5;34m3\u001b[0m, \u001b[38;5;34m3\u001b[0m, \u001b[38;5;34m256\u001b[0m)      │         \u001b[38;5;34m1,024\u001b[0m │\n",
       "│ (\u001b[38;5;33mBatchNormalization\u001b[0m)            │                        │               │\n",
       "├─────────────────────────────────┼────────────────────────┼───────────────┤\n",
       "│ flatten_4 (\u001b[38;5;33mFlatten\u001b[0m)             │ (\u001b[38;5;45mNone\u001b[0m, \u001b[38;5;34m2304\u001b[0m)           │             \u001b[38;5;34m0\u001b[0m │\n",
       "├─────────────────────────────────┼────────────────────────┼───────────────┤\n",
       "│ dense_12 (\u001b[38;5;33mDense\u001b[0m)                │ (\u001b[38;5;45mNone\u001b[0m, \u001b[38;5;34m512\u001b[0m)            │     \u001b[38;5;34m1,180,160\u001b[0m │\n",
       "├─────────────────────────────────┼────────────────────────┼───────────────┤\n",
       "│ dropout_14 (\u001b[38;5;33mDropout\u001b[0m)            │ (\u001b[38;5;45mNone\u001b[0m, \u001b[38;5;34m512\u001b[0m)            │             \u001b[38;5;34m0\u001b[0m │\n",
       "├─────────────────────────────────┼────────────────────────┼───────────────┤\n",
       "│ batch_normalization_19          │ (\u001b[38;5;45mNone\u001b[0m, \u001b[38;5;34m512\u001b[0m)            │         \u001b[38;5;34m2,048\u001b[0m │\n",
       "│ (\u001b[38;5;33mBatchNormalization\u001b[0m)            │                        │               │\n",
       "├─────────────────────────────────┼────────────────────────┼───────────────┤\n",
       "│ dense_13 (\u001b[38;5;33mDense\u001b[0m)                │ (\u001b[38;5;45mNone\u001b[0m, \u001b[38;5;34m288\u001b[0m)            │       \u001b[38;5;34m147,744\u001b[0m │\n",
       "├─────────────────────────────────┼────────────────────────┼───────────────┤\n",
       "│ dense_14 (\u001b[38;5;33mDense\u001b[0m)                │ (\u001b[38;5;45mNone\u001b[0m, \u001b[38;5;34m26\u001b[0m)             │         \u001b[38;5;34m7,514\u001b[0m │\n",
       "└─────────────────────────────────┴────────────────────────┴───────────────┘\n"
      ]
     },
     "metadata": {},
     "output_type": "display_data"
    },
    {
     "data": {
      "text/html": [
       "<pre style=\"white-space:pre;overflow-x:auto;line-height:normal;font-family:Menlo,'DejaVu Sans Mono',consolas,'Courier New',monospace\"><span style=\"font-weight: bold\"> Total params: </span><span style=\"color: #00af00; text-decoration-color: #00af00\">5,126,384</span> (19.56 MB)\n",
       "</pre>\n"
      ],
      "text/plain": [
       "\u001b[1m Total params: \u001b[0m\u001b[38;5;34m5,126,384\u001b[0m (19.56 MB)\n"
      ]
     },
     "metadata": {},
     "output_type": "display_data"
    },
    {
     "data": {
      "text/html": [
       "<pre style=\"white-space:pre;overflow-x:auto;line-height:normal;font-family:Menlo,'DejaVu Sans Mono',consolas,'Courier New',monospace\"><span style=\"font-weight: bold\"> Trainable params: </span><span style=\"color: #00af00; text-decoration-color: #00af00\">1,708,154</span> (6.52 MB)\n",
       "</pre>\n"
      ],
      "text/plain": [
       "\u001b[1m Trainable params: \u001b[0m\u001b[38;5;34m1,708,154\u001b[0m (6.52 MB)\n"
      ]
     },
     "metadata": {},
     "output_type": "display_data"
    },
    {
     "data": {
      "text/html": [
       "<pre style=\"white-space:pre;overflow-x:auto;line-height:normal;font-family:Menlo,'DejaVu Sans Mono',consolas,'Courier New',monospace\"><span style=\"font-weight: bold\"> Non-trainable params: </span><span style=\"color: #00af00; text-decoration-color: #00af00\">1,920</span> (7.50 KB)\n",
       "</pre>\n"
      ],
      "text/plain": [
       "\u001b[1m Non-trainable params: \u001b[0m\u001b[38;5;34m1,920\u001b[0m (7.50 KB)\n"
      ]
     },
     "metadata": {},
     "output_type": "display_data"
    },
    {
     "data": {
      "text/html": [
       "<pre style=\"white-space:pre;overflow-x:auto;line-height:normal;font-family:Menlo,'DejaVu Sans Mono',consolas,'Courier New',monospace\"><span style=\"font-weight: bold\"> Optimizer params: </span><span style=\"color: #00af00; text-decoration-color: #00af00\">3,416,310</span> (13.03 MB)\n",
       "</pre>\n"
      ],
      "text/plain": [
       "\u001b[1m Optimizer params: \u001b[0m\u001b[38;5;34m3,416,310\u001b[0m (13.03 MB)\n"
      ]
     },
     "metadata": {},
     "output_type": "display_data"
    }
   ],
   "source": [
    "model.summary()"
   ]
  },
  {
   "cell_type": "code",
   "execution_count": 96,
   "id": "b3f17d8b",
   "metadata": {
    "execution": {
     "iopub.execute_input": "2022-10-14T02:04:30.726221Z",
     "iopub.status.busy": "2022-10-14T02:04:30.725485Z",
     "iopub.status.idle": "2022-10-14T02:04:30.729887Z",
     "shell.execute_reply": "2022-10-14T02:04:30.729165Z"
    },
    "papermill": {
     "duration": 0.137524,
     "end_time": "2022-10-14T02:04:30.731790",
     "exception": false,
     "start_time": "2022-10-14T02:04:30.594266",
     "status": "completed"
    },
    "tags": []
   },
   "outputs": [],
   "source": [
    "time = np.arange(1, len(history.history['loss'])+1)"
   ]
  },
  {
   "cell_type": "code",
   "execution_count": 97,
   "id": "a4c5c1d6",
   "metadata": {
    "execution": {
     "iopub.execute_input": "2022-10-14T02:04:30.991311Z",
     "iopub.status.busy": "2022-10-14T02:04:30.990630Z",
     "iopub.status.idle": "2022-10-14T02:05:15.381806Z",
     "shell.execute_reply": "2022-10-14T02:05:15.380627Z"
    },
    "papermill": {
     "duration": 44.525158,
     "end_time": "2022-10-14T02:05:15.384760",
     "exception": false,
     "start_time": "2022-10-14T02:04:30.859602",
     "status": "completed"
    },
    "tags": []
   },
   "outputs": [],
   "source": [
    "import seaborn as sns"
   ]
  },
  {
   "cell_type": "markdown",
   "id": "7b2e333e",
   "metadata": {
    "papermill": {
     "duration": 0.128003,
     "end_time": "2022-10-14T02:05:15.641140",
     "exception": false,
     "start_time": "2022-10-14T02:05:15.513137",
     "status": "completed"
    },
    "tags": []
   },
   "source": [
    "# Resultados"
   ]
  },
  {
   "cell_type": "code",
   "execution_count": 98,
   "id": "6ac43da5",
   "metadata": {
    "execution": {
     "iopub.execute_input": "2022-10-14T02:05:15.971992Z",
     "iopub.status.busy": "2022-10-14T02:05:15.971357Z",
     "iopub.status.idle": "2022-10-14T02:05:16.268130Z",
     "shell.execute_reply": "2022-10-14T02:05:16.266966Z"
    },
    "papermill": {
     "duration": 0.501149,
     "end_time": "2022-10-14T02:05:16.270461",
     "exception": false,
     "start_time": "2022-10-14T02:05:15.769312",
     "status": "completed"
    },
    "tags": []
   },
   "outputs": [
    {
     "data": {
      "image/png": "[encoded data removed]",
      "text/plain": [
       "<Figure size 640x480 with 1 Axes>"
      ]
     },
     "metadata": {},
     "output_type": "display_data"
    }
   ],
   "source": [
    "sns.lineplot(data=history.history, x=time, y='loss')\n",
    "sns.lineplot(data=history.history, x=time, y='val_loss')\n",
    "plt.title('Loss fitting history')\n",
    "plt.legend(labels=['Loss', 'Validation loss'])\n",
    "plt.show()"
   ]
  },
  {
   "cell_type": "code",
   "execution_count": 99,
   "id": "9e000477",
   "metadata": {
    "execution": {
     "iopub.execute_input": "2022-10-14T02:05:16.523791Z",
     "iopub.status.busy": "2022-10-14T02:05:16.523352Z",
     "iopub.status.idle": "2022-10-14T02:05:16.780730Z",
     "shell.execute_reply": "2022-10-14T02:05:16.779561Z"
    },
    "papermill": {
     "duration": 0.387349,
     "end_time": "2022-10-14T02:05:16.782984",
     "exception": false,
     "start_time": "2022-10-14T02:05:16.395635",
     "status": "completed"
    },
    "tags": []
   },
   "outputs": [
    {
     "data": {
      "image/png": "[encoded data removed]",
      "text/plain": [
       "<Figure size 640x480 with 1 Axes>"
      ]
     },
     "metadata": {},
     "output_type": "display_data"
    }
   ],
   "source": [
    "sns.lineplot(data=history.history, x=time, y='val_sparse_categorical_accuracy')\n",
    "sns.lineplot(data=history.history, x=time, y='sparse_categorical_accuracy')\n",
    "plt.title('Accuracy fitting history')\n",
    "plt.legend(labels=['Accuracy', 'Valuation accuracy'])\n",
    "plt.show()"
   ]
  },
  {
   "cell_type": "code",
   "execution_count": 100,
   "id": "ba40be37",
   "metadata": {
    "execution": {
     "iopub.execute_input": "2022-10-14T02:05:17.039762Z",
     "iopub.status.busy": "2022-10-14T02:05:17.038531Z",
     "iopub.status.idle": "2022-10-14T02:05:17.339086Z",
     "shell.execute_reply": "2022-10-14T02:05:17.337490Z"
    },
    "papermill": {
     "duration": 0.433339,
     "end_time": "2022-10-14T02:05:17.342495",
     "exception": false,
     "start_time": "2022-10-14T02:05:16.909156",
     "status": "completed"
    },
    "tags": []
   },
   "outputs": [
    {
     "name": "stdout",
     "output_type": "stream",
     "text": [
      "\u001b[1m10/10\u001b[0m \u001b[32m━━━━━━━━━━━━━━━━━━━━\u001b[0m\u001b[37m\u001b[0m \u001b[1m0s\u001b[0m 19ms/step - loss: 0.4393 - sparse_categorical_accuracy: 0.9129\n"
     ]
    }
   ],
   "source": [
    "test_loss, test_acc = model.evaluate(X_test, y_test)"
   ]
  },
  {
   "cell_type": "code",
   "execution_count": 101,
   "id": "72b52768",
   "metadata": {
    "execution": {
     "iopub.execute_input": "2022-10-14T02:05:17.602503Z",
     "iopub.status.busy": "2022-10-14T02:05:17.602057Z",
     "iopub.status.idle": "2022-10-14T02:05:17.607875Z",
     "shell.execute_reply": "2022-10-14T02:05:17.606610Z"
    },
    "papermill": {
     "duration": 0.139669,
     "end_time": "2022-10-14T02:05:17.610288",
     "exception": false,
     "start_time": "2022-10-14T02:05:17.470619",
     "status": "completed"
    },
    "tags": []
   },
   "outputs": [
    {
     "name": "stdout",
     "output_type": "stream",
     "text": [
      "Loss 0.42573845386505127\n",
      "Accuracy 0.9102563858032227\n"
     ]
    }
   ],
   "source": [
    "print('Loss', test_loss)\n",
    "print('Accuracy', test_acc)"
   ]
  },
  {
   "cell_type": "code",
   "execution_count": 102,
   "id": "fd2a40e0",
   "metadata": {},
   "outputs": [
    {
     "name": "stderr",
     "output_type": "stream",
     "text": [
      "WARNING:absl:You are saving your model as an HDF5 file via `model.save()` or `keras.saving.save_model(model)`. This file format is considered legacy. We recommend using instead the native Keras format, e.g. `model.save('my_model.keras')` or `keras.saving.save_model(model, 'my_model.keras')`. \n"
     ]
    }
   ],
   "source": [
    "# Save the entire model to a file\n",
    "model.save(\"model.h5\")"
   ]
  },
  {
   "cell_type": "code",
   "execution_count": 103,
   "id": "61b906e1",
   "metadata": {
    "execution": {
     "iopub.execute_input": "2022-10-14T02:05:17.868138Z",
     "iopub.status.busy": "2022-10-14T02:05:17.867759Z",
     "iopub.status.idle": "2022-10-14T02:05:18.303664Z",
     "shell.execute_reply": "2022-10-14T02:05:18.302510Z"
    },
    "papermill": {
     "duration": 0.566523,
     "end_time": "2022-10-14T02:05:18.305853",
     "exception": false,
     "start_time": "2022-10-14T02:05:17.739330",
     "status": "completed"
    },
    "tags": []
   },
   "outputs": [
    {
     "name": "stdout",
     "output_type": "stream",
     "text": [
      "index:  78\n",
      "\u001b[1m1/1\u001b[0m \u001b[32m━━━━━━━━━━━━━━━━━━━━\u001b[0m\u001b[37m\u001b[0m \u001b[1m0s\u001b[0m 184ms/step\n",
      "score:  [[2.65348673e-14 3.06127461e-08 1.71183651e-16 6.16110431e-16\n",
      "  1.42172327e-19 3.25369905e-11 4.31216499e-17 6.75169469e-12\n",
      "  1.30387298e-11 1.18016402e-15 5.59316260e-10 1.00000000e+00\n",
      "  2.74277924e-16 6.61685295e-19 1.32346664e-15 1.59889058e-09\n",
      "  8.01110527e-17 5.80360260e-10 2.36789227e-10 9.41008606e-17\n",
      "  8.53478190e-15 1.30214515e-08 4.57238232e-16 3.24542859e-20\n",
      "  6.29621125e-20 2.76802664e-16]]\n",
      "Predicted label: l\n"
     ]
    },
    {
     "data": {
      "image/png": "[encoded data removed]",
      "text/plain": [
       "<Figure size 640x480 with 1 Axes>"
      ]
     },
     "metadata": {},
     "output_type": "display_data"
    }
   ],
   "source": [
    "from random import randrange\n",
    "print(\"index: \", randrange(312))\n",
    "index_image = randrange(312)\n",
    "prediction_scores = model.predict(np.expand_dims(X_test[index_image], axis=0))\n",
    "predicted_index = np.argmax(prediction_scores)\n",
    "plt.imshow(X_test[index_image])\n",
    "print(\"score: \", prediction_scores)\n",
    "print(\"Predicted label: \" + class_names[predicted_index])"
   ]
  }
 ],
 "metadata": {
  "kernelspec": {
   "display_name": "img_env",
   "language": "python",
   "name": "python3"
  },
  "language_info": {
   "codemirror_mode": {
    "name": "ipython",
    "version": 3
   },
   "file_extension": ".py",
   "mimetype": "text/x-python",
   "name": "python",
   "nbconvert_exporter": "python",
   "pygments_lexer": "ipython3",
   "version": "3.12.7"
  },
  "papermill": {
   "default_parameters": {},
   "duration": 235.142021,
   "end_time": "2022-10-14T02:05:21.710599",
   "environment_variables": {},
   "exception": null,
   "input_path": "__notebook__.ipynb",
   "output_path": "__notebook__.ipynb",
   "parameters": {},
   "start_time": "2022-10-14T02:01:26.568578",
   "version": "2.3.4"
  }
 },
 "nbformat": 4,
 "nbformat_minor": 5
}
